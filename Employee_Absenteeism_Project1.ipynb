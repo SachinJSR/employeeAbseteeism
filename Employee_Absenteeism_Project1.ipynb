{
 "cells": [
  {
   "cell_type": "code",
   "execution_count": 1,
   "metadata": {},
   "outputs": [],
   "source": [
    "#importing the essiantial Classes \n",
    "import numpy as np\n",
    "import pandas as pd\n",
    "import matplotlib.pyplot as plt\n",
    "import seaborn as sns\n",
    "%matplotlib inline"
   ]
  },
  {
   "cell_type": "code",
   "execution_count": 2,
   "metadata": {},
   "outputs": [],
   "source": [
    "#reading the data\n",
    "dataEmpAbs = pd.read_excel('d:/edwisor/Absenteeism_Practice.xls')"
   ]
  },
  {
   "cell_type": "code",
   "execution_count": 3,
   "metadata": {},
   "outputs": [],
   "source": [
    "dataEmpAbsOrgCpy = dataEmpAbs.copy()"
   ]
  },
  {
   "cell_type": "code",
   "execution_count": 4,
   "metadata": {},
   "outputs": [
    {
     "data": {
      "text/html": [
       "<div>\n",
       "<style scoped>\n",
       "    .dataframe tbody tr th:only-of-type {\n",
       "        vertical-align: middle;\n",
       "    }\n",
       "\n",
       "    .dataframe tbody tr th {\n",
       "        vertical-align: top;\n",
       "    }\n",
       "\n",
       "    .dataframe thead th {\n",
       "        text-align: right;\n",
       "    }\n",
       "</style>\n",
       "<table border=\"1\" class=\"dataframe\">\n",
       "  <thead>\n",
       "    <tr style=\"text-align: right;\">\n",
       "      <th></th>\n",
       "      <th>ID</th>\n",
       "      <th>Reason for absence</th>\n",
       "      <th>Month of absence</th>\n",
       "      <th>Day of the week</th>\n",
       "      <th>Seasons</th>\n",
       "      <th>Transportation expense</th>\n",
       "      <th>Distance from Residence to Work</th>\n",
       "      <th>Service time</th>\n",
       "      <th>Age</th>\n",
       "      <th>Work load Average/day</th>\n",
       "      <th>...</th>\n",
       "      <th>Disciplinary failure</th>\n",
       "      <th>Education</th>\n",
       "      <th>Son</th>\n",
       "      <th>Social drinker</th>\n",
       "      <th>Social smoker</th>\n",
       "      <th>Pet</th>\n",
       "      <th>Weight</th>\n",
       "      <th>Height</th>\n",
       "      <th>Body mass index</th>\n",
       "      <th>Absenteeism time in hours</th>\n",
       "    </tr>\n",
       "  </thead>\n",
       "  <tbody>\n",
       "    <tr>\n",
       "      <th>0</th>\n",
       "      <td>11</td>\n",
       "      <td>26.0</td>\n",
       "      <td>7.0</td>\n",
       "      <td>3</td>\n",
       "      <td>1</td>\n",
       "      <td>289.0</td>\n",
       "      <td>36.0</td>\n",
       "      <td>13.0</td>\n",
       "      <td>33.0</td>\n",
       "      <td>239554.0</td>\n",
       "      <td>...</td>\n",
       "      <td>0.0</td>\n",
       "      <td>1.0</td>\n",
       "      <td>2.0</td>\n",
       "      <td>1.0</td>\n",
       "      <td>0.0</td>\n",
       "      <td>1.0</td>\n",
       "      <td>90.0</td>\n",
       "      <td>172.0</td>\n",
       "      <td>30.0</td>\n",
       "      <td>4.0</td>\n",
       "    </tr>\n",
       "    <tr>\n",
       "      <th>1</th>\n",
       "      <td>36</td>\n",
       "      <td>0.0</td>\n",
       "      <td>7.0</td>\n",
       "      <td>3</td>\n",
       "      <td>1</td>\n",
       "      <td>118.0</td>\n",
       "      <td>13.0</td>\n",
       "      <td>18.0</td>\n",
       "      <td>50.0</td>\n",
       "      <td>239554.0</td>\n",
       "      <td>...</td>\n",
       "      <td>1.0</td>\n",
       "      <td>1.0</td>\n",
       "      <td>1.0</td>\n",
       "      <td>1.0</td>\n",
       "      <td>0.0</td>\n",
       "      <td>0.0</td>\n",
       "      <td>98.0</td>\n",
       "      <td>178.0</td>\n",
       "      <td>31.0</td>\n",
       "      <td>0.0</td>\n",
       "    </tr>\n",
       "    <tr>\n",
       "      <th>2</th>\n",
       "      <td>3</td>\n",
       "      <td>23.0</td>\n",
       "      <td>7.0</td>\n",
       "      <td>4</td>\n",
       "      <td>1</td>\n",
       "      <td>179.0</td>\n",
       "      <td>51.0</td>\n",
       "      <td>18.0</td>\n",
       "      <td>38.0</td>\n",
       "      <td>239554.0</td>\n",
       "      <td>...</td>\n",
       "      <td>0.0</td>\n",
       "      <td>1.0</td>\n",
       "      <td>0.0</td>\n",
       "      <td>1.0</td>\n",
       "      <td>0.0</td>\n",
       "      <td>0.0</td>\n",
       "      <td>89.0</td>\n",
       "      <td>170.0</td>\n",
       "      <td>31.0</td>\n",
       "      <td>2.0</td>\n",
       "    </tr>\n",
       "    <tr>\n",
       "      <th>3</th>\n",
       "      <td>7</td>\n",
       "      <td>7.0</td>\n",
       "      <td>7.0</td>\n",
       "      <td>5</td>\n",
       "      <td>1</td>\n",
       "      <td>279.0</td>\n",
       "      <td>5.0</td>\n",
       "      <td>14.0</td>\n",
       "      <td>39.0</td>\n",
       "      <td>239554.0</td>\n",
       "      <td>...</td>\n",
       "      <td>0.0</td>\n",
       "      <td>1.0</td>\n",
       "      <td>2.0</td>\n",
       "      <td>1.0</td>\n",
       "      <td>1.0</td>\n",
       "      <td>0.0</td>\n",
       "      <td>68.0</td>\n",
       "      <td>168.0</td>\n",
       "      <td>24.0</td>\n",
       "      <td>4.0</td>\n",
       "    </tr>\n",
       "    <tr>\n",
       "      <th>4</th>\n",
       "      <td>11</td>\n",
       "      <td>23.0</td>\n",
       "      <td>7.0</td>\n",
       "      <td>5</td>\n",
       "      <td>1</td>\n",
       "      <td>289.0</td>\n",
       "      <td>36.0</td>\n",
       "      <td>13.0</td>\n",
       "      <td>33.0</td>\n",
       "      <td>239554.0</td>\n",
       "      <td>...</td>\n",
       "      <td>0.0</td>\n",
       "      <td>1.0</td>\n",
       "      <td>2.0</td>\n",
       "      <td>1.0</td>\n",
       "      <td>0.0</td>\n",
       "      <td>1.0</td>\n",
       "      <td>90.0</td>\n",
       "      <td>172.0</td>\n",
       "      <td>30.0</td>\n",
       "      <td>2.0</td>\n",
       "    </tr>\n",
       "  </tbody>\n",
       "</table>\n",
       "<p>5 rows × 21 columns</p>\n",
       "</div>"
      ],
      "text/plain": [
       "   ID  Reason for absence  Month of absence  Day of the week  Seasons  \\\n",
       "0  11                26.0               7.0                3        1   \n",
       "1  36                 0.0               7.0                3        1   \n",
       "2   3                23.0               7.0                4        1   \n",
       "3   7                 7.0               7.0                5        1   \n",
       "4  11                23.0               7.0                5        1   \n",
       "\n",
       "   Transportation expense  Distance from Residence to Work  Service time  \\\n",
       "0                   289.0                             36.0          13.0   \n",
       "1                   118.0                             13.0          18.0   \n",
       "2                   179.0                             51.0          18.0   \n",
       "3                   279.0                              5.0          14.0   \n",
       "4                   289.0                             36.0          13.0   \n",
       "\n",
       "    Age  Work load Average/day   ...  Disciplinary failure  Education  Son  \\\n",
       "0  33.0                239554.0  ...                   0.0        1.0  2.0   \n",
       "1  50.0                239554.0  ...                   1.0        1.0  1.0   \n",
       "2  38.0                239554.0  ...                   0.0        1.0  0.0   \n",
       "3  39.0                239554.0  ...                   0.0        1.0  2.0   \n",
       "4  33.0                239554.0  ...                   0.0        1.0  2.0   \n",
       "\n",
       "   Social drinker  Social smoker  Pet  Weight  Height  Body mass index  \\\n",
       "0             1.0            0.0  1.0    90.0   172.0             30.0   \n",
       "1             1.0            0.0  0.0    98.0   178.0             31.0   \n",
       "2             1.0            0.0  0.0    89.0   170.0             31.0   \n",
       "3             1.0            1.0  0.0    68.0   168.0             24.0   \n",
       "4             1.0            0.0  1.0    90.0   172.0             30.0   \n",
       "\n",
       "   Absenteeism time in hours  \n",
       "0                        4.0  \n",
       "1                        0.0  \n",
       "2                        2.0  \n",
       "3                        4.0  \n",
       "4                        2.0  \n",
       "\n",
       "[5 rows x 21 columns]"
      ]
     },
     "execution_count": 4,
     "metadata": {},
     "output_type": "execute_result"
    }
   ],
   "source": [
    "#Checking the data\n",
    "dataEmpAbs.head()"
   ]
  },
  {
   "cell_type": "markdown",
   "metadata": {},
   "source": [
    "# Exploratory Data Analysis and Pre-Processing"
   ]
  },
  {
   "cell_type": "code",
   "execution_count": 5,
   "metadata": {},
   "outputs": [
    {
     "name": "stdout",
     "output_type": "stream",
     "text": [
      "<class 'pandas.core.frame.DataFrame'>\n",
      "RangeIndex: 740 entries, 0 to 739\n",
      "Data columns (total 21 columns):\n",
      "ID                                 740 non-null int64\n",
      "Reason for absence                 737 non-null float64\n",
      "Month of absence                   739 non-null float64\n",
      "Day of the week                    740 non-null int64\n",
      "Seasons                            740 non-null int64\n",
      "Transportation expense             733 non-null float64\n",
      "Distance from Residence to Work    737 non-null float64\n",
      "Service time                       737 non-null float64\n",
      "Age                                737 non-null float64\n",
      "Work load Average/day              730 non-null float64\n",
      "Hit target                         734 non-null float64\n",
      "Disciplinary failure               734 non-null float64\n",
      "Education                          730 non-null float64\n",
      "Son                                734 non-null float64\n",
      "Social drinker                     737 non-null float64\n",
      "Social smoker                      736 non-null float64\n",
      "Pet                                738 non-null float64\n",
      "Weight                             739 non-null float64\n",
      "Height                             726 non-null float64\n",
      "Body mass index                    709 non-null float64\n",
      "Absenteeism time in hours          718 non-null float64\n",
      "dtypes: float64(18), int64(3)\n",
      "memory usage: 121.5 KB\n"
     ]
    }
   ],
   "source": [
    "#checking the info of Data\n",
    "dataEmpAbs.info()"
   ]
  },
  {
   "cell_type": "code",
   "execution_count": 6,
   "metadata": {},
   "outputs": [
    {
     "data": {
      "text/plain": [
       "ID                                 36\n",
       "Reason for absence                 28\n",
       "Month of absence                   13\n",
       "Day of the week                     5\n",
       "Seasons                             4\n",
       "Transportation expense             24\n",
       "Distance from Residence to Work    25\n",
       "Service time                       18\n",
       "Age                                22\n",
       "Work load Average/day              38\n",
       "Hit target                         13\n",
       "Disciplinary failure                2\n",
       "Education                           4\n",
       "Son                                 5\n",
       "Social drinker                      2\n",
       "Social smoker                       2\n",
       "Pet                                 6\n",
       "Weight                             26\n",
       "Height                             14\n",
       "Body mass index                    17\n",
       "dtype: int64"
      ]
     },
     "execution_count": 6,
     "metadata": {},
     "output_type": "execute_result"
    }
   ],
   "source": [
    "#sns.barplot(x=dataEmpAbs.nunique())\n",
    "dataEmpAbs.iloc[:,:-1].nunique()"
   ]
  },
  {
   "cell_type": "code",
   "execution_count": 7,
   "metadata": {},
   "outputs": [],
   "source": [
    "#from the above unique values we can easily differentiate the Continous and categorial variables\n",
    "continuous_variable = ['Distance from Residence to Work', 'Service time', 'Age', 'Work load Average/day ', \n",
    "                       'Transportation expense','Hit target', 'Weight', 'Height', 'Body mass index',\n",
    "                       'Absenteeism time in hours']\n"
   ]
  },
  {
   "cell_type": "code",
   "execution_count": 8,
   "metadata": {},
   "outputs": [],
   "source": [
    "categorical_variable = ['ID','Reason for absence','Month of absence','Day of the week','Seasons','Disciplinary failure', \n",
    "                        'Education', 'Social drinker','Social smoker', 'Pet', 'Son']"
   ]
  },
  {
   "cell_type": "code",
   "execution_count": 9,
   "metadata": {},
   "outputs": [
    {
     "data": {
      "text/plain": [
       "<matplotlib.axes._subplots.AxesSubplot at 0x1b030a09b70>"
      ]
     },
     "execution_count": 9,
     "metadata": {},
     "output_type": "execute_result"
    },
    {
     "data": {
      "image/png": "[encoded data removed]",
      "text/plain": [
       "<Figure size 1080x360 with 1 Axes>"
      ]
     },
     "metadata": {
      "needs_background": "light"
     },
     "output_type": "display_data"
    }
   ],
   "source": [
    "plt.figure(figsize=(15,5))\n",
    "sns.countplot(x=dataEmpAbs['Reason for absence'])"
   ]
  },
  {
   "cell_type": "markdown",
   "metadata": {},
   "source": [
    "### Top 3 reasons of being absent are\n",
    "#1- 23 is the topmost reason\n",
    "#2- 28 is secondmost\n",
    "#3- 27 is thirdmost reason \n"
   ]
  },
  {
   "cell_type": "markdown",
   "metadata": {},
   "source": [
    "### lets check which employee has been absent for maximum hours"
   ]
  },
  {
   "cell_type": "code",
   "execution_count": 10,
   "metadata": {},
   "outputs": [
    {
     "data": {
      "text/plain": [
       "<matplotlib.axes._subplots.AxesSubplot at 0x1b030d07f60>"
      ]
     },
     "execution_count": 10,
     "metadata": {},
     "output_type": "execute_result"
    },
    {
     "data": {
      "image/png": "[encoded data removed]",
      "text/plain": [
       "<Figure size 1080x360 with 1 Axes>"
      ]
     },
     "metadata": {
      "needs_background": "light"
     },
     "output_type": "display_data"
    }
   ],
   "source": [
    "plt.figure(figsize=(15,5))\n",
    "sns.barplot(x=dataEmpAbs['ID'],y='Absenteeism time in hours',data=dataEmpAbs,estimator=np.sum)"
   ]
  },
  {
   "cell_type": "code",
   "execution_count": 11,
   "metadata": {},
   "outputs": [
    {
     "data": {
      "text/plain": [
       "ID\n",
       "11    450.0\n",
       "3     448.0\n",
       "14    356.0\n",
       "28    345.0\n",
       "34    341.0\n",
       "Name: Absenteeism time in hours, dtype: float64"
      ]
     },
     "execution_count": 11,
     "metadata": {},
     "output_type": "execute_result"
    }
   ],
   "source": [
    "dataEmpAbs.groupby('ID')['Absenteeism time in hours'].sum().sort_values(ascending=False).head(5)"
   ]
  },
  {
   "cell_type": "markdown",
   "metadata": {},
   "source": [
    "#### from the above Data and Visualisation we can clearly see the top 5 employees having being absent from total hours"
   ]
  },
  {
   "cell_type": "code",
   "execution_count": 14,
   "metadata": {},
   "outputs": [
    {
     "data": {
      "text/plain": [
       "<matplotlib.axes._subplots.AxesSubplot at 0x1b032bce9e8>"
      ]
     },
     "execution_count": 14,
     "metadata": {},
     "output_type": "execute_result"
    },
    {
     "data": {
      "image/png": "[encoded data removed]",
      "text/plain": [
       "<Figure size 432x288 with 1 Axes>"
      ]
     },
     "metadata": {
      "needs_background": "light"
     },
     "output_type": "display_data"
    }
   ],
   "source": [
    "sns.barplot(x=dataEmpAbs['Day of the week'],y='Absenteeism time in hours',data=dataEmpAbs)"
   ]
  },
  {
   "cell_type": "markdown",
   "metadata": {},
   "source": [
    "### comparision of Absent hours in employee how many are Smoker,Drinker and Non-smoker,Non-drinker"
   ]
  },
  {
   "cell_type": "code",
   "execution_count": 12,
   "metadata": {},
   "outputs": [
    {
     "data": {
      "text/plain": [
       "280.0"
      ]
     },
     "execution_count": 12,
     "metadata": {},
     "output_type": "execute_result"
    }
   ],
   "source": [
    "dataEmpAbs[(dataEmpAbs['Social drinker']==1) & (dataEmpAbs['Social smoker']==1)]['Absenteeism time in hours'].sum()"
   ]
  },
  {
   "cell_type": "code",
   "execution_count": 13,
   "metadata": {},
   "outputs": [
    {
     "data": {
      "text/plain": [
       "1677.0"
      ]
     },
     "execution_count": 13,
     "metadata": {},
     "output_type": "execute_result"
    }
   ],
   "source": [
    "dataEmpAbs[(dataEmpAbs['Social drinker']==0) & (dataEmpAbs['Social smoker']==0)]['Absenteeism time in hours'].sum()"
   ]
  },
  {
   "cell_type": "code",
   "execution_count": 96,
   "metadata": {},
   "outputs": [
    {
     "data": {
      "text/plain": [
       "<matplotlib.axes._subplots.AxesSubplot at 0x23622200470>"
      ]
     },
     "execution_count": 96,
     "metadata": {},
     "output_type": "execute_result"
    },
    {
     "data": {
      "image/png": "[encoded data removed]",
      "text/plain": [
       "<Figure size 432x288 with 1 Axes>"
      ]
     },
     "metadata": {
      "needs_background": "light"
     },
     "output_type": "display_data"
    }
   ],
   "source": [
    "sns.barplot(dataEmpAbsOrgCpy['Social drinker'],dataEmpAbsOrgCpy['Absenteeism time in hours'])"
   ]
  },
  {
   "cell_type": "markdown",
   "metadata": {},
   "source": [
    "#### Drinkers took more leaves thn non drinkers"
   ]
  },
  {
   "cell_type": "code",
   "execution_count": 94,
   "metadata": {},
   "outputs": [
    {
     "data": {
      "text/plain": [
       "<matplotlib.axes._subplots.AxesSubplot at 0x23622b69048>"
      ]
     },
     "execution_count": 94,
     "metadata": {},
     "output_type": "execute_result"
    },
    {
     "data": {
      "image/png": "[encoded data removed]",
      "text/plain": [
       "<Figure size 432x288 with 1 Axes>"
      ]
     },
     "metadata": {
      "needs_background": "light"
     },
     "output_type": "display_data"
    }
   ],
   "source": [
    "sns.barplot(dataEmpAbsOrgCpy['Seasons'],dataEmpAbsOrgCpy['Absenteeism time in hours'],data=dataEmpAbsOrgCpy)"
   ]
  },
  {
   "cell_type": "markdown",
   "metadata": {},
   "source": [
    "###  Season: (summer (1), autumn (2), winter (3), spring (4))\n",
    "### In Winter and Summer absenteeism is high"
   ]
  },
  {
   "cell_type": "markdown",
   "metadata": {},
   "source": [
    "## Missing value analysis"
   ]
  },
  {
   "cell_type": "code",
   "execution_count": 14,
   "metadata": {},
   "outputs": [
    {
     "data": {
      "text/html": [
       "<div>\n",
       "<style scoped>\n",
       "    .dataframe tbody tr th:only-of-type {\n",
       "        vertical-align: middle;\n",
       "    }\n",
       "\n",
       "    .dataframe tbody tr th {\n",
       "        vertical-align: top;\n",
       "    }\n",
       "\n",
       "    .dataframe thead th {\n",
       "        text-align: right;\n",
       "    }\n",
       "</style>\n",
       "<table border=\"1\" class=\"dataframe\">\n",
       "  <thead>\n",
       "    <tr style=\"text-align: right;\">\n",
       "      <th></th>\n",
       "      <th>index</th>\n",
       "      <th>0</th>\n",
       "    </tr>\n",
       "  </thead>\n",
       "  <tbody>\n",
       "    <tr>\n",
       "      <th>0</th>\n",
       "      <td>ID</td>\n",
       "      <td>0</td>\n",
       "    </tr>\n",
       "    <tr>\n",
       "      <th>1</th>\n",
       "      <td>Reason for absence</td>\n",
       "      <td>3</td>\n",
       "    </tr>\n",
       "    <tr>\n",
       "      <th>2</th>\n",
       "      <td>Month of absence</td>\n",
       "      <td>1</td>\n",
       "    </tr>\n",
       "    <tr>\n",
       "      <th>3</th>\n",
       "      <td>Day of the week</td>\n",
       "      <td>0</td>\n",
       "    </tr>\n",
       "    <tr>\n",
       "      <th>4</th>\n",
       "      <td>Seasons</td>\n",
       "      <td>0</td>\n",
       "    </tr>\n",
       "    <tr>\n",
       "      <th>5</th>\n",
       "      <td>Transportation expense</td>\n",
       "      <td>7</td>\n",
       "    </tr>\n",
       "    <tr>\n",
       "      <th>6</th>\n",
       "      <td>Distance from Residence to Work</td>\n",
       "      <td>3</td>\n",
       "    </tr>\n",
       "    <tr>\n",
       "      <th>7</th>\n",
       "      <td>Service time</td>\n",
       "      <td>3</td>\n",
       "    </tr>\n",
       "    <tr>\n",
       "      <th>8</th>\n",
       "      <td>Age</td>\n",
       "      <td>3</td>\n",
       "    </tr>\n",
       "    <tr>\n",
       "      <th>9</th>\n",
       "      <td>Work load Average/day</td>\n",
       "      <td>10</td>\n",
       "    </tr>\n",
       "    <tr>\n",
       "      <th>10</th>\n",
       "      <td>Hit target</td>\n",
       "      <td>6</td>\n",
       "    </tr>\n",
       "    <tr>\n",
       "      <th>11</th>\n",
       "      <td>Disciplinary failure</td>\n",
       "      <td>6</td>\n",
       "    </tr>\n",
       "    <tr>\n",
       "      <th>12</th>\n",
       "      <td>Education</td>\n",
       "      <td>10</td>\n",
       "    </tr>\n",
       "    <tr>\n",
       "      <th>13</th>\n",
       "      <td>Son</td>\n",
       "      <td>6</td>\n",
       "    </tr>\n",
       "    <tr>\n",
       "      <th>14</th>\n",
       "      <td>Social drinker</td>\n",
       "      <td>3</td>\n",
       "    </tr>\n",
       "    <tr>\n",
       "      <th>15</th>\n",
       "      <td>Social smoker</td>\n",
       "      <td>4</td>\n",
       "    </tr>\n",
       "    <tr>\n",
       "      <th>16</th>\n",
       "      <td>Pet</td>\n",
       "      <td>2</td>\n",
       "    </tr>\n",
       "    <tr>\n",
       "      <th>17</th>\n",
       "      <td>Weight</td>\n",
       "      <td>1</td>\n",
       "    </tr>\n",
       "    <tr>\n",
       "      <th>18</th>\n",
       "      <td>Height</td>\n",
       "      <td>14</td>\n",
       "    </tr>\n",
       "    <tr>\n",
       "      <th>19</th>\n",
       "      <td>Body mass index</td>\n",
       "      <td>31</td>\n",
       "    </tr>\n",
       "    <tr>\n",
       "      <th>20</th>\n",
       "      <td>Absenteeism time in hours</td>\n",
       "      <td>22</td>\n",
       "    </tr>\n",
       "  </tbody>\n",
       "</table>\n",
       "</div>"
      ],
      "text/plain": [
       "                              index   0\n",
       "0                                ID   0\n",
       "1                Reason for absence   3\n",
       "2                  Month of absence   1\n",
       "3                   Day of the week   0\n",
       "4                           Seasons   0\n",
       "5            Transportation expense   7\n",
       "6   Distance from Residence to Work   3\n",
       "7                      Service time   3\n",
       "8                               Age   3\n",
       "9            Work load Average/day   10\n",
       "10                       Hit target   6\n",
       "11             Disciplinary failure   6\n",
       "12                        Education  10\n",
       "13                              Son   6\n",
       "14                   Social drinker   3\n",
       "15                    Social smoker   4\n",
       "16                              Pet   2\n",
       "17                           Weight   1\n",
       "18                           Height  14\n",
       "19                  Body mass index  31\n",
       "20        Absenteeism time in hours  22"
      ]
     },
     "execution_count": 14,
     "metadata": {},
     "output_type": "execute_result"
    }
   ],
   "source": [
    "missVal = pd.DataFrame(dataEmpAbs.isnull().sum()).reset_index()\n",
    "missVal"
   ]
  },
  {
   "cell_type": "code",
   "execution_count": 15,
   "metadata": {},
   "outputs": [],
   "source": [
    "missVal = missVal.rename(columns={'index':'ColNames',0:'MissVal'})"
   ]
  },
  {
   "cell_type": "code",
   "execution_count": 16,
   "metadata": {},
   "outputs": [
    {
     "data": {
      "text/html": [
       "<div>\n",
       "<style scoped>\n",
       "    .dataframe tbody tr th:only-of-type {\n",
       "        vertical-align: middle;\n",
       "    }\n",
       "\n",
       "    .dataframe tbody tr th {\n",
       "        vertical-align: top;\n",
       "    }\n",
       "\n",
       "    .dataframe thead th {\n",
       "        text-align: right;\n",
       "    }\n",
       "</style>\n",
       "<table border=\"1\" class=\"dataframe\">\n",
       "  <thead>\n",
       "    <tr style=\"text-align: right;\">\n",
       "      <th></th>\n",
       "      <th>ColNames</th>\n",
       "      <th>MissVal</th>\n",
       "    </tr>\n",
       "  </thead>\n",
       "  <tbody>\n",
       "    <tr>\n",
       "      <th>0</th>\n",
       "      <td>ID</td>\n",
       "      <td>0</td>\n",
       "    </tr>\n",
       "    <tr>\n",
       "      <th>1</th>\n",
       "      <td>Reason for absence</td>\n",
       "      <td>3</td>\n",
       "    </tr>\n",
       "    <tr>\n",
       "      <th>2</th>\n",
       "      <td>Month of absence</td>\n",
       "      <td>1</td>\n",
       "    </tr>\n",
       "    <tr>\n",
       "      <th>3</th>\n",
       "      <td>Day of the week</td>\n",
       "      <td>0</td>\n",
       "    </tr>\n",
       "    <tr>\n",
       "      <th>4</th>\n",
       "      <td>Seasons</td>\n",
       "      <td>0</td>\n",
       "    </tr>\n",
       "    <tr>\n",
       "      <th>5</th>\n",
       "      <td>Transportation expense</td>\n",
       "      <td>7</td>\n",
       "    </tr>\n",
       "    <tr>\n",
       "      <th>6</th>\n",
       "      <td>Distance from Residence to Work</td>\n",
       "      <td>3</td>\n",
       "    </tr>\n",
       "    <tr>\n",
       "      <th>7</th>\n",
       "      <td>Service time</td>\n",
       "      <td>3</td>\n",
       "    </tr>\n",
       "    <tr>\n",
       "      <th>8</th>\n",
       "      <td>Age</td>\n",
       "      <td>3</td>\n",
       "    </tr>\n",
       "    <tr>\n",
       "      <th>9</th>\n",
       "      <td>Work load Average/day</td>\n",
       "      <td>10</td>\n",
       "    </tr>\n",
       "    <tr>\n",
       "      <th>10</th>\n",
       "      <td>Hit target</td>\n",
       "      <td>6</td>\n",
       "    </tr>\n",
       "    <tr>\n",
       "      <th>11</th>\n",
       "      <td>Disciplinary failure</td>\n",
       "      <td>6</td>\n",
       "    </tr>\n",
       "    <tr>\n",
       "      <th>12</th>\n",
       "      <td>Education</td>\n",
       "      <td>10</td>\n",
       "    </tr>\n",
       "    <tr>\n",
       "      <th>13</th>\n",
       "      <td>Son</td>\n",
       "      <td>6</td>\n",
       "    </tr>\n",
       "    <tr>\n",
       "      <th>14</th>\n",
       "      <td>Social drinker</td>\n",
       "      <td>3</td>\n",
       "    </tr>\n",
       "    <tr>\n",
       "      <th>15</th>\n",
       "      <td>Social smoker</td>\n",
       "      <td>4</td>\n",
       "    </tr>\n",
       "    <tr>\n",
       "      <th>16</th>\n",
       "      <td>Pet</td>\n",
       "      <td>2</td>\n",
       "    </tr>\n",
       "    <tr>\n",
       "      <th>17</th>\n",
       "      <td>Weight</td>\n",
       "      <td>1</td>\n",
       "    </tr>\n",
       "    <tr>\n",
       "      <th>18</th>\n",
       "      <td>Height</td>\n",
       "      <td>14</td>\n",
       "    </tr>\n",
       "    <tr>\n",
       "      <th>19</th>\n",
       "      <td>Body mass index</td>\n",
       "      <td>31</td>\n",
       "    </tr>\n",
       "    <tr>\n",
       "      <th>20</th>\n",
       "      <td>Absenteeism time in hours</td>\n",
       "      <td>22</td>\n",
       "    </tr>\n",
       "  </tbody>\n",
       "</table>\n",
       "</div>"
      ],
      "text/plain": [
       "                           ColNames  MissVal\n",
       "0                                ID        0\n",
       "1                Reason for absence        3\n",
       "2                  Month of absence        1\n",
       "3                   Day of the week        0\n",
       "4                           Seasons        0\n",
       "5            Transportation expense        7\n",
       "6   Distance from Residence to Work        3\n",
       "7                      Service time        3\n",
       "8                               Age        3\n",
       "9            Work load Average/day        10\n",
       "10                       Hit target        6\n",
       "11             Disciplinary failure        6\n",
       "12                        Education       10\n",
       "13                              Son        6\n",
       "14                   Social drinker        3\n",
       "15                    Social smoker        4\n",
       "16                              Pet        2\n",
       "17                           Weight        1\n",
       "18                           Height       14\n",
       "19                  Body mass index       31\n",
       "20        Absenteeism time in hours       22"
      ]
     },
     "execution_count": 16,
     "metadata": {},
     "output_type": "execute_result"
    }
   ],
   "source": [
    "missVal"
   ]
  },
  {
   "cell_type": "markdown",
   "metadata": {},
   "source": [
    "### there are missing values but not very high so none of the variable will be drop due to missing value\n",
    "### target variable has some missing values so we will be Dropping those values"
   ]
  },
  {
   "cell_type": "code",
   "execution_count": 17,
   "metadata": {},
   "outputs": [],
   "source": [
    "dataEmpAbs.drop(dataEmpAbs[dataEmpAbs['Absenteeism time in hours'].isnull()].index,axis=0,inplace=True)"
   ]
  },
  {
   "cell_type": "code",
   "execution_count": 18,
   "metadata": {},
   "outputs": [
    {
     "data": {
      "text/plain": [
       "0"
      ]
     },
     "execution_count": 18,
     "metadata": {},
     "output_type": "execute_result"
    }
   ],
   "source": [
    "dataEmpAbs['Absenteeism time in hours'].isnull().sum()"
   ]
  },
  {
   "cell_type": "markdown",
   "metadata": {},
   "source": [
    "## Imputation of null values using KNN"
   ]
  },
  {
   "cell_type": "code",
   "execution_count": 19,
   "metadata": {},
   "outputs": [
    {
     "name": "stderr",
     "output_type": "stream",
     "text": [
      "C:\\Users\\administrator\\AppData\\Local\\Continuum\\anaconda3\\lib\\site-packages\\sklearn\\externals\\six.py:31: DeprecationWarning: The module is deprecated in version 0.21 and will be removed in version 0.23 since we've dropped support for Python 2.7. Please rely on the official version of six (https://pypi.org/project/six/).\n",
      "  \"(https://pypi.org/project/six/).\", DeprecationWarning)\n",
      "Using TensorFlow backend.\n"
     ]
    }
   ],
   "source": [
    "from fancyimpute import KNN"
   ]
  },
  {
   "cell_type": "code",
   "execution_count": 20,
   "metadata": {},
   "outputs": [
    {
     "name": "stdout",
     "output_type": "stream",
     "text": [
      "Imputing row 1/718 with 0 missing, elapsed time: 0.437\n",
      "Imputing row 101/718 with 1 missing, elapsed time: 0.453\n",
      "Imputing row 201/718 with 0 missing, elapsed time: 0.453\n",
      "Imputing row 301/718 with 0 missing, elapsed time: 0.453\n",
      "Imputing row 401/718 with 0 missing, elapsed time: 0.453\n",
      "Imputing row 501/718 with 1 missing, elapsed time: 0.453\n",
      "Imputing row 601/718 with 0 missing, elapsed time: 0.453\n",
      "Imputing row 701/718 with 0 missing, elapsed time: 0.453\n"
     ]
    }
   ],
   "source": [
    "dataEmpAbs = pd.DataFrame(KNN(k=3).fit_transform(dataEmpAbs),columns=dataEmpAbs.columns)"
   ]
  },
  {
   "cell_type": "code",
   "execution_count": 21,
   "metadata": {},
   "outputs": [
    {
     "data": {
      "text/plain": [
       "0"
      ]
     },
     "execution_count": 21,
     "metadata": {},
     "output_type": "execute_result"
    }
   ],
   "source": [
    "dataEmpAbs.isnull().sum().sum()"
   ]
  },
  {
   "cell_type": "markdown",
   "metadata": {},
   "source": [
    "# Convert into proper datatypes"
   ]
  },
  {
   "cell_type": "code",
   "execution_count": 22,
   "metadata": {},
   "outputs": [],
   "source": [
    "\n",
    "for i in categorical_variable:\n",
    "    dataEmpAbs.loc[:,i] = dataEmpAbs.loc[:,i].round()  # some data during KNN imputation got changed as decimal values\n",
    "    dataEmpAbs.loc[:,i] = dataEmpAbs.loc[:,i].astype('object')"
   ]
  },
  {
   "cell_type": "code",
   "execution_count": 23,
   "metadata": {},
   "outputs": [],
   "source": [
    "for i in continuous_variable:\n",
    "    dataEmpAbs.loc[:,i] = dataEmpAbs.loc[:,i].astype(int)"
   ]
  },
  {
   "cell_type": "code",
   "execution_count": 24,
   "metadata": {},
   "outputs": [],
   "source": [
    "dataEmpAbsAftImpt = dataEmpAbs.copy()"
   ]
  },
  {
   "cell_type": "markdown",
   "metadata": {},
   "source": [
    "### OutLier Analysis"
   ]
  },
  {
   "cell_type": "code",
   "execution_count": 25,
   "metadata": {},
   "outputs": [
    {
     "data": {
      "image/png": "[encoded data removed]",
      "text/plain": [
       "<Figure size 432x288 with 1 Axes>"
      ]
     },
     "metadata": {
      "needs_background": "light"
     },
     "output_type": "display_data"
    },
    {
     "data": {
      "image/png": "[encoded data removed]",
      "text/plain": [
       "<Figure size 432x288 with 1 Axes>"
      ]
     },
     "metadata": {
      "needs_background": "light"
     },
     "output_type": "display_data"
    },
    {
     "data": {
      "image/png": "[encoded data removed]",
      "text/plain": [
       "<Figure size 432x288 with 1 Axes>"
      ]
     },
     "metadata": {
      "needs_background": "light"
     },
     "output_type": "display_data"
    },
    {
     "data": {
      "image/png": "[encoded data removed]",
      "text/plain": [
       "<Figure size 432x288 with 1 Axes>"
      ]
     },
     "metadata": {
      "needs_background": "light"
     },
     "output_type": "display_data"
    },
    {
     "data": {
      "image/png": "[encoded data removed]",
      "text/plain": [
       "<Figure size 432x288 with 1 Axes>"
      ]
     },
     "metadata": {
      "needs_background": "light"
     },
     "output_type": "display_data"
    },
    {
     "data": {
      "image/png": "[encoded data removed]",
      "text/plain": [
       "<Figure size 432x288 with 1 Axes>"
      ]
     },
     "metadata": {
      "needs_background": "light"
     },
     "output_type": "display_data"
    },
    {
     "data": {
      "image/png": "[encoded data removed]",
      "text/plain": [
       "<Figure size 432x288 with 1 Axes>"
      ]
     },
     "metadata": {
      "needs_background": "light"
     },
     "output_type": "display_data"
    },
    {
     "data": {
      "image/png": "[encoded data removed]",
      "text/plain": [
       "<Figure size 432x288 with 1 Axes>"
      ]
     },
     "metadata": {
      "needs_background": "light"
     },
     "output_type": "display_data"
    },
    {
     "data": {
      "image/png": "[encoded data removed]",
      "text/plain": [
       "<Figure size 432x288 with 1 Axes>"
      ]
     },
     "metadata": {
      "needs_background": "light"
     },
     "output_type": "display_data"
    },
    {
     "data": {
      "image/png": "[encoded data removed]",
      "text/plain": [
       "<Figure size 432x288 with 1 Axes>"
      ]
     },
     "metadata": {
      "needs_background": "light"
     },
     "output_type": "display_data"
    }
   ],
   "source": [
    "for i in continuous_variable:\n",
    "    #if i == 'Absenteeism time in hours':\n",
    "        #continue\n",
    "    plt.boxplot(dataEmpAbs[i])\n",
    "    plt.title('Box plot of '+str(i))\n",
    "    plt.xlabel(i)\n",
    "    plt.show()"
   ]
  },
  {
   "cell_type": "code",
   "execution_count": 26,
   "metadata": {},
   "outputs": [
    {
     "name": "stdout",
     "output_type": "stream",
     "text": [
      "-35.0\n",
      "101.0\n",
      "-1.5\n",
      "26.5\n",
      "17.5\n",
      "53.5\n",
      "173153.5\n",
      "363109.5\n",
      "57.5\n",
      "381.5\n",
      "87.0\n",
      "103.0\n",
      "39.0\n",
      "119.0\n",
      "164.5\n",
      "176.5\n",
      "13.5\n",
      "41.5\n"
     ]
    }
   ],
   "source": [
    "for i in continuous_variable:\n",
    "    if i == 'Absenteeism time in hours':\n",
    "        continue\n",
    "    # calculating the percentile q75 & q25\n",
    "    q75,q25 = np.percentile(dataEmpAbs[i],[75,25])\n",
    "    #calculation inter quarlite range\n",
    "    iqr = q75 - q25\n",
    "    #calculating the upper fence and lower fence\n",
    "    minimum = q25 - (1.5*iqr)\n",
    "    maximum = q75 + (1.5*iqr)\n",
    "    print(minimum)\n",
    "    print(maximum)\n",
    "        \n",
    "    #replcing outliers with NAN\n",
    "    dataEmpAbs.loc[dataEmpAbs[i] < minimum,i] = np.nan\n",
    "    dataEmpAbs.loc[dataEmpAbs[i] > maximum,i] = np.nan\n",
    "        "
   ]
  },
  {
   "cell_type": "code",
   "execution_count": 27,
   "metadata": {},
   "outputs": [
    {
     "data": {
      "text/plain": [
       "ID                                   0\n",
       "Reason for absence                   0\n",
       "Month of absence                     0\n",
       "Day of the week                      0\n",
       "Seasons                              0\n",
       "Transportation expense               3\n",
       "Distance from Residence to Work      0\n",
       "Service time                         5\n",
       "Age                                  8\n",
       "Work load Average/day               29\n",
       "Hit target                          19\n",
       "Disciplinary failure                 0\n",
       "Education                            0\n",
       "Son                                  0\n",
       "Social drinker                       0\n",
       "Social smoker                        0\n",
       "Pet                                  0\n",
       "Weight                               0\n",
       "Height                             114\n",
       "Body mass index                      0\n",
       "Absenteeism time in hours            0\n",
       "dtype: int64"
      ]
     },
     "execution_count": 27,
     "metadata": {},
     "output_type": "execute_result"
    }
   ],
   "source": [
    "dataEmpAbs.isnull().sum()"
   ]
  },
  {
   "cell_type": "markdown",
   "metadata": {},
   "source": [
    "### Imputation with KNN"
   ]
  },
  {
   "cell_type": "code",
   "execution_count": 28,
   "metadata": {},
   "outputs": [
    {
     "name": "stdout",
     "output_type": "stream",
     "text": [
      "Imputing row 1/718 with 0 missing, elapsed time: 0.239\n",
      "Imputing row 101/718 with 0 missing, elapsed time: 0.239\n",
      "Imputing row 201/718 with 1 missing, elapsed time: 0.239\n",
      "Imputing row 301/718 with 0 missing, elapsed time: 0.239\n",
      "Imputing row 401/718 with 0 missing, elapsed time: 0.239\n",
      "Imputing row 501/718 with 0 missing, elapsed time: 0.239\n",
      "Imputing row 601/718 with 1 missing, elapsed time: 0.239\n",
      "Imputing row 701/718 with 0 missing, elapsed time: 0.239\n"
     ]
    }
   ],
   "source": [
    "dataEmpAbs = pd.DataFrame(KNN(k=3).fit_transform(dataEmpAbs),columns=dataEmpAbs.columns)"
   ]
  },
  {
   "cell_type": "markdown",
   "metadata": {},
   "source": [
    "### Feature selection \n",
    "### Co-relation"
   ]
  },
  {
   "cell_type": "code",
   "execution_count": 29,
   "metadata": {},
   "outputs": [],
   "source": [
    "corrdata = dataEmpAbs.loc[:,continuous_variable].corr()"
   ]
  },
  {
   "cell_type": "code",
   "execution_count": 30,
   "metadata": {},
   "outputs": [
    {
     "data": {
      "text/plain": [
       "<matplotlib.axes._subplots.AxesSubplot at 0x2361dddc9e8>"
      ]
     },
     "execution_count": 30,
     "metadata": {},
     "output_type": "execute_result"
    },
    {
     "data": {
      "image/png": "[encoded data removed]",
      "text/plain": [
       "<Figure size 720x576 with 2 Axes>"
      ]
     },
     "metadata": {
      "needs_background": "light"
     },
     "output_type": "display_data"
    }
   ],
   "source": [
    "plt.figure(figsize=(10,8))\n",
    "sns.heatmap(data=corrdata,annot=True)"
   ]
  },
  {
   "cell_type": "code",
   "execution_count": 31,
   "metadata": {},
   "outputs": [],
   "source": [
    "#above grapth suggests that weight is haing redundant information\n",
    "dataEmpAbs.drop('Weight',axis=1,inplace=True)\n"
   ]
  },
  {
   "cell_type": "code",
   "execution_count": 32,
   "metadata": {},
   "outputs": [
    {
     "data": {
      "text/plain": [
       "['Distance from Residence to Work',\n",
       " 'Service time',\n",
       " 'Age',\n",
       " 'Work load Average/day ',\n",
       " 'Transportation expense',\n",
       " 'Hit target',\n",
       " 'Height',\n",
       " 'Body mass index',\n",
       " 'Absenteeism time in hours']"
      ]
     },
     "execution_count": 32,
     "metadata": {},
     "output_type": "execute_result"
    }
   ],
   "source": [
    "#updating continous variables\n",
    "continuous_variable.remove('Weight')\n",
    "continuous_variable"
   ]
  },
  {
   "cell_type": "code",
   "execution_count": 33,
   "metadata": {},
   "outputs": [
    {
     "data": {
      "text/plain": [
       "Index(['ID', 'Reason for absence', 'Month of absence', 'Day of the week',\n",
       "       'Seasons', 'Transportation expense', 'Distance from Residence to Work',\n",
       "       'Service time', 'Age', 'Work load Average/day ', 'Hit target',\n",
       "       'Disciplinary failure', 'Education', 'Son', 'Social drinker',\n",
       "       'Social smoker', 'Pet', 'Height', 'Body mass index',\n",
       "       'Absenteeism time in hours'],\n",
       "      dtype='object')"
      ]
     },
     "execution_count": 33,
     "metadata": {},
     "output_type": "execute_result"
    }
   ],
   "source": [
    "dataEmpAbs.columns"
   ]
  },
  {
   "cell_type": "markdown",
   "metadata": {},
   "source": [
    "### Feature Scaling"
   ]
  },
  {
   "cell_type": "code",
   "execution_count": 34,
   "metadata": {},
   "outputs": [
    {
     "name": "stdout",
     "output_type": "stream",
     "text": [
      "218.65751564667022\n",
      "17.21668193314192\n",
      "36.93060674111103\n",
      "1040107734.1447943\n",
      "4252.468469250886\n",
      "9.47288551212245\n",
      "3.279548206121902\n",
      "18.22867837593191\n"
     ]
    }
   ],
   "source": [
    "#checking the variance of Continous Variables\n",
    "for i in continuous_variable:\n",
    "    if i == 'Absenteeism time in hours':\n",
    "        continue\n",
    "    print(dataEmpAbs[i].var())"
   ]
  },
  {
   "cell_type": "markdown",
   "metadata": {},
   "source": [
    "#### Data is having variance"
   ]
  },
  {
   "cell_type": "markdown",
   "metadata": {},
   "source": [
    "### Checking the same through Graph.. checking the normal distribution"
   ]
  },
  {
   "cell_type": "code",
   "execution_count": 35,
   "metadata": {},
   "outputs": [
    {
     "data": {
      "image/png": "[encoded data removed]",
      "text/plain": [
       "<Figure size 432x288 with 1 Axes>"
      ]
     },
     "metadata": {
      "needs_background": "light"
     },
     "output_type": "display_data"
    },
    {
     "data": {
      "image/png": "[encoded data removed]",
      "text/plain": [
       "<Figure size 432x288 with 1 Axes>"
      ]
     },
     "metadata": {
      "needs_background": "light"
     },
     "output_type": "display_data"
    },
    {
     "data": {
      "image/png": "[encoded data removed]",
      "text/plain": [
       "<Figure size 432x288 with 1 Axes>"
      ]
     },
     "metadata": {
      "needs_background": "light"
     },
     "output_type": "display_data"
    },
    {
     "data": {
      "image/png": "[encoded data removed]",
      "text/plain": [
       "<Figure size 432x288 with 1 Axes>"
      ]
     },
     "metadata": {
      "needs_background": "light"
     },
     "output_type": "display_data"
    },
    {
     "data": {
      "image/png": "[encoded data removed]",
      "text/plain": [
       "<Figure size 432x288 with 1 Axes>"
      ]
     },
     "metadata": {
      "needs_background": "light"
     },
     "output_type": "display_data"
    },
    {
     "data": {
      "image/png": "[encoded data removed]",
      "text/plain": [
       "<Figure size 432x288 with 1 Axes>"
      ]
     },
     "metadata": {
      "needs_background": "light"
     },
     "output_type": "display_data"
    },
    {
     "data": {
      "image/png": "[encoded data removed]",
      "text/plain": [
       "<Figure size 432x288 with 1 Axes>"
      ]
     },
     "metadata": {
      "needs_background": "light"
     },
     "output_type": "display_data"
    },
    {
     "data": {
      "image/png": "[encoded data removed]",
      "text/plain": [
       "<Figure size 432x288 with 1 Axes>"
      ]
     },
     "metadata": {
      "needs_background": "light"
     },
     "output_type": "display_data"
    }
   ],
   "source": [
    "for i in continuous_variable:\n",
    "    if i == 'Absenteeism time in hours':\n",
    "        continue\n",
    "    sns.distplot(dataEmpAbs[i])\n",
    "    plt.title('Distibution Graph of '+str(i))\n",
    "    plt.xlabel(i)\n",
    "    plt.show()"
   ]
  },
  {
   "cell_type": "markdown",
   "metadata": {},
   "source": [
    "###  above Graphs shows that data is not Normally Distributed\n",
    "#### hence we will be using Normalisation"
   ]
  },
  {
   "cell_type": "code",
   "execution_count": 36,
   "metadata": {},
   "outputs": [],
   "source": [
    "for i in continuous_variable:\n",
    "    dataEmpAbs[i] = (dataEmpAbs[i]-min(dataEmpAbs[i]))/(max(dataEmpAbs[i])-min(dataEmpAbs[i]))"
   ]
  },
  {
   "cell_type": "code",
   "execution_count": 37,
   "metadata": {},
   "outputs": [],
   "source": [
    "#making a copy of DAta\n",
    "copyDataEmpAbs = dataEmpAbs.copy()"
   ]
  },
  {
   "cell_type": "markdown",
   "metadata": {},
   "source": [
    "### For Categorical features use GetDummies"
   ]
  },
  {
   "cell_type": "code",
   "execution_count": 38,
   "metadata": {},
   "outputs": [],
   "source": [
    "dataEmpAbs = pd.get_dummies(data=dataEmpAbs,columns=categorical_variable,drop_first=True)"
   ]
  },
  {
   "cell_type": "code",
   "execution_count": 39,
   "metadata": {},
   "outputs": [],
   "source": [
    "# To View All columns\n",
    "pd.set_option('display.max_columns', None)  \n",
    "pd.set_option('display.expand_frame_repr', False)\n",
    "pd.set_option('max_colwidth', -1)"
   ]
  },
  {
   "cell_type": "code",
   "execution_count": 40,
   "metadata": {},
   "outputs": [
    {
     "data": {
      "text/html": [
       "<div>\n",
       "<style scoped>\n",
       "    .dataframe tbody tr th:only-of-type {\n",
       "        vertical-align: middle;\n",
       "    }\n",
       "\n",
       "    .dataframe tbody tr th {\n",
       "        vertical-align: top;\n",
       "    }\n",
       "\n",
       "    .dataframe thead th {\n",
       "        text-align: right;\n",
       "    }\n",
       "</style>\n",
       "<table border=\"1\" class=\"dataframe\">\n",
       "  <thead>\n",
       "    <tr style=\"text-align: right;\">\n",
       "      <th></th>\n",
       "      <th>Transportation expense</th>\n",
       "      <th>Distance from Residence to Work</th>\n",
       "      <th>Service time</th>\n",
       "      <th>Age</th>\n",
       "      <th>Work load Average/day</th>\n",
       "      <th>Hit target</th>\n",
       "      <th>Height</th>\n",
       "      <th>Body mass index</th>\n",
       "      <th>Absenteeism time in hours</th>\n",
       "      <th>ID_2.0</th>\n",
       "      <th>ID_3.0</th>\n",
       "      <th>ID_4.0</th>\n",
       "      <th>ID_5.0</th>\n",
       "      <th>ID_6.0</th>\n",
       "      <th>ID_7.0</th>\n",
       "      <th>ID_8.0</th>\n",
       "      <th>ID_9.0</th>\n",
       "      <th>ID_10.0</th>\n",
       "      <th>ID_11.0</th>\n",
       "      <th>ID_12.0</th>\n",
       "      <th>ID_13.0</th>\n",
       "      <th>ID_14.0</th>\n",
       "      <th>ID_15.0</th>\n",
       "      <th>ID_16.0</th>\n",
       "      <th>ID_17.0</th>\n",
       "      <th>ID_18.0</th>\n",
       "      <th>ID_19.0</th>\n",
       "      <th>ID_20.0</th>\n",
       "      <th>ID_21.0</th>\n",
       "      <th>ID_22.0</th>\n",
       "      <th>ID_23.0</th>\n",
       "      <th>ID_24.0</th>\n",
       "      <th>ID_25.0</th>\n",
       "      <th>ID_26.0</th>\n",
       "      <th>ID_27.0</th>\n",
       "      <th>ID_28.0</th>\n",
       "      <th>ID_29.0</th>\n",
       "      <th>ID_30.0</th>\n",
       "      <th>ID_31.0</th>\n",
       "      <th>ID_32.0</th>\n",
       "      <th>ID_33.0</th>\n",
       "      <th>ID_34.0</th>\n",
       "      <th>ID_35.0</th>\n",
       "      <th>ID_36.0</th>\n",
       "      <th>Reason for absence_1.0</th>\n",
       "      <th>Reason for absence_2.0</th>\n",
       "      <th>Reason for absence_3.0</th>\n",
       "      <th>Reason for absence_4.0</th>\n",
       "      <th>Reason for absence_5.0</th>\n",
       "      <th>Reason for absence_6.0</th>\n",
       "      <th>Reason for absence_7.0</th>\n",
       "      <th>Reason for absence_8.0</th>\n",
       "      <th>Reason for absence_9.0</th>\n",
       "      <th>Reason for absence_10.0</th>\n",
       "      <th>Reason for absence_11.0</th>\n",
       "      <th>Reason for absence_12.0</th>\n",
       "      <th>Reason for absence_13.0</th>\n",
       "      <th>Reason for absence_14.0</th>\n",
       "      <th>Reason for absence_15.0</th>\n",
       "      <th>Reason for absence_16.0</th>\n",
       "      <th>Reason for absence_17.0</th>\n",
       "      <th>Reason for absence_18.0</th>\n",
       "      <th>Reason for absence_19.0</th>\n",
       "      <th>Reason for absence_20.0</th>\n",
       "      <th>Reason for absence_21.0</th>\n",
       "      <th>Reason for absence_22.0</th>\n",
       "      <th>Reason for absence_23.0</th>\n",
       "      <th>Reason for absence_24.0</th>\n",
       "      <th>Reason for absence_25.0</th>\n",
       "      <th>Reason for absence_26.0</th>\n",
       "      <th>Reason for absence_27.0</th>\n",
       "      <th>Reason for absence_28.0</th>\n",
       "      <th>Month of absence_1.0</th>\n",
       "      <th>Month of absence_2.0</th>\n",
       "      <th>Month of absence_3.0</th>\n",
       "      <th>Month of absence_4.0</th>\n",
       "      <th>Month of absence_5.0</th>\n",
       "      <th>Month of absence_6.0</th>\n",
       "      <th>Month of absence_7.0</th>\n",
       "      <th>Month of absence_8.0</th>\n",
       "      <th>Month of absence_9.0</th>\n",
       "      <th>Month of absence_10.0</th>\n",
       "      <th>Month of absence_11.0</th>\n",
       "      <th>Month of absence_12.0</th>\n",
       "      <th>Day of the week_3.0</th>\n",
       "      <th>Day of the week_4.0</th>\n",
       "      <th>Day of the week_5.0</th>\n",
       "      <th>Day of the week_6.0</th>\n",
       "      <th>Seasons_2.0</th>\n",
       "      <th>Seasons_3.0</th>\n",
       "      <th>Seasons_4.0</th>\n",
       "      <th>Disciplinary failure_1.0</th>\n",
       "      <th>Education_2.0</th>\n",
       "      <th>Education_3.0</th>\n",
       "      <th>Education_4.0</th>\n",
       "      <th>Social drinker_1.0</th>\n",
       "      <th>Social smoker_1.0</th>\n",
       "      <th>Pet_1.0</th>\n",
       "      <th>Pet_2.0</th>\n",
       "      <th>Pet_4.0</th>\n",
       "      <th>Pet_5.0</th>\n",
       "      <th>Pet_8.0</th>\n",
       "      <th>Son_1.0</th>\n",
       "      <th>Son_2.0</th>\n",
       "      <th>Son_3.0</th>\n",
       "      <th>Son_4.0</th>\n",
       "    </tr>\n",
       "  </thead>\n",
       "  <tbody>\n",
       "    <tr>\n",
       "      <th>0</th>\n",
       "      <td>0.657692</td>\n",
       "      <td>0.659574</td>\n",
       "      <td>0.521739</td>\n",
       "      <td>0.230769</td>\n",
       "      <td>0.244925</td>\n",
       "      <td>0.769231</td>\n",
       "      <td>0.7</td>\n",
       "      <td>0.578947</td>\n",
       "      <td>0.033333</td>\n",
       "      <td>0</td>\n",
       "      <td>0</td>\n",
       "      <td>0</td>\n",
       "      <td>0</td>\n",
       "      <td>0</td>\n",
       "      <td>0</td>\n",
       "      <td>0</td>\n",
       "      <td>0</td>\n",
       "      <td>0</td>\n",
       "      <td>1</td>\n",
       "      <td>0</td>\n",
       "      <td>0</td>\n",
       "      <td>0</td>\n",
       "      <td>0</td>\n",
       "      <td>0</td>\n",
       "      <td>0</td>\n",
       "      <td>0</td>\n",
       "      <td>0</td>\n",
       "      <td>0</td>\n",
       "      <td>0</td>\n",
       "      <td>0</td>\n",
       "      <td>0</td>\n",
       "      <td>0</td>\n",
       "      <td>0</td>\n",
       "      <td>0</td>\n",
       "      <td>0</td>\n",
       "      <td>0</td>\n",
       "      <td>0</td>\n",
       "      <td>0</td>\n",
       "      <td>0</td>\n",
       "      <td>0</td>\n",
       "      <td>0</td>\n",
       "      <td>0</td>\n",
       "      <td>0</td>\n",
       "      <td>0</td>\n",
       "      <td>0</td>\n",
       "      <td>0</td>\n",
       "      <td>0</td>\n",
       "      <td>0</td>\n",
       "      <td>0</td>\n",
       "      <td>0</td>\n",
       "      <td>0</td>\n",
       "      <td>0</td>\n",
       "      <td>0</td>\n",
       "      <td>0</td>\n",
       "      <td>0</td>\n",
       "      <td>0</td>\n",
       "      <td>0</td>\n",
       "      <td>0</td>\n",
       "      <td>0</td>\n",
       "      <td>0</td>\n",
       "      <td>0</td>\n",
       "      <td>0</td>\n",
       "      <td>0</td>\n",
       "      <td>0</td>\n",
       "      <td>0</td>\n",
       "      <td>0</td>\n",
       "      <td>0</td>\n",
       "      <td>0</td>\n",
       "      <td>0</td>\n",
       "      <td>1</td>\n",
       "      <td>0</td>\n",
       "      <td>0</td>\n",
       "      <td>0</td>\n",
       "      <td>0</td>\n",
       "      <td>0</td>\n",
       "      <td>0</td>\n",
       "      <td>0</td>\n",
       "      <td>0</td>\n",
       "      <td>1</td>\n",
       "      <td>0</td>\n",
       "      <td>0</td>\n",
       "      <td>0</td>\n",
       "      <td>0</td>\n",
       "      <td>0</td>\n",
       "      <td>1</td>\n",
       "      <td>0</td>\n",
       "      <td>0</td>\n",
       "      <td>0</td>\n",
       "      <td>0</td>\n",
       "      <td>0</td>\n",
       "      <td>0</td>\n",
       "      <td>0</td>\n",
       "      <td>0</td>\n",
       "      <td>0</td>\n",
       "      <td>0</td>\n",
       "      <td>1</td>\n",
       "      <td>0</td>\n",
       "      <td>1</td>\n",
       "      <td>0</td>\n",
       "      <td>0</td>\n",
       "      <td>0</td>\n",
       "      <td>0</td>\n",
       "      <td>0</td>\n",
       "      <td>1</td>\n",
       "      <td>0</td>\n",
       "      <td>0</td>\n",
       "    </tr>\n",
       "    <tr>\n",
       "      <th>1</th>\n",
       "      <td>0.000000</td>\n",
       "      <td>0.170213</td>\n",
       "      <td>0.739130</td>\n",
       "      <td>0.884615</td>\n",
       "      <td>0.244925</td>\n",
       "      <td>0.769231</td>\n",
       "      <td>0.5</td>\n",
       "      <td>0.631579</td>\n",
       "      <td>0.000000</td>\n",
       "      <td>0</td>\n",
       "      <td>0</td>\n",
       "      <td>0</td>\n",
       "      <td>0</td>\n",
       "      <td>0</td>\n",
       "      <td>0</td>\n",
       "      <td>0</td>\n",
       "      <td>0</td>\n",
       "      <td>0</td>\n",
       "      <td>0</td>\n",
       "      <td>0</td>\n",
       "      <td>0</td>\n",
       "      <td>0</td>\n",
       "      <td>0</td>\n",
       "      <td>0</td>\n",
       "      <td>0</td>\n",
       "      <td>0</td>\n",
       "      <td>0</td>\n",
       "      <td>0</td>\n",
       "      <td>0</td>\n",
       "      <td>0</td>\n",
       "      <td>0</td>\n",
       "      <td>0</td>\n",
       "      <td>0</td>\n",
       "      <td>0</td>\n",
       "      <td>0</td>\n",
       "      <td>0</td>\n",
       "      <td>0</td>\n",
       "      <td>0</td>\n",
       "      <td>0</td>\n",
       "      <td>0</td>\n",
       "      <td>0</td>\n",
       "      <td>0</td>\n",
       "      <td>0</td>\n",
       "      <td>1</td>\n",
       "      <td>0</td>\n",
       "      <td>0</td>\n",
       "      <td>0</td>\n",
       "      <td>0</td>\n",
       "      <td>0</td>\n",
       "      <td>0</td>\n",
       "      <td>0</td>\n",
       "      <td>0</td>\n",
       "      <td>0</td>\n",
       "      <td>0</td>\n",
       "      <td>0</td>\n",
       "      <td>0</td>\n",
       "      <td>0</td>\n",
       "      <td>0</td>\n",
       "      <td>0</td>\n",
       "      <td>0</td>\n",
       "      <td>0</td>\n",
       "      <td>0</td>\n",
       "      <td>0</td>\n",
       "      <td>0</td>\n",
       "      <td>0</td>\n",
       "      <td>0</td>\n",
       "      <td>0</td>\n",
       "      <td>0</td>\n",
       "      <td>0</td>\n",
       "      <td>0</td>\n",
       "      <td>0</td>\n",
       "      <td>0</td>\n",
       "      <td>0</td>\n",
       "      <td>0</td>\n",
       "      <td>0</td>\n",
       "      <td>0</td>\n",
       "      <td>0</td>\n",
       "      <td>0</td>\n",
       "      <td>1</td>\n",
       "      <td>0</td>\n",
       "      <td>0</td>\n",
       "      <td>0</td>\n",
       "      <td>0</td>\n",
       "      <td>0</td>\n",
       "      <td>1</td>\n",
       "      <td>0</td>\n",
       "      <td>0</td>\n",
       "      <td>0</td>\n",
       "      <td>0</td>\n",
       "      <td>0</td>\n",
       "      <td>0</td>\n",
       "      <td>1</td>\n",
       "      <td>0</td>\n",
       "      <td>0</td>\n",
       "      <td>0</td>\n",
       "      <td>1</td>\n",
       "      <td>0</td>\n",
       "      <td>0</td>\n",
       "      <td>0</td>\n",
       "      <td>0</td>\n",
       "      <td>0</td>\n",
       "      <td>0</td>\n",
       "      <td>1</td>\n",
       "      <td>0</td>\n",
       "      <td>0</td>\n",
       "      <td>0</td>\n",
       "    </tr>\n",
       "    <tr>\n",
       "      <th>2</th>\n",
       "      <td>0.234615</td>\n",
       "      <td>0.978723</td>\n",
       "      <td>0.739130</td>\n",
       "      <td>0.423077</td>\n",
       "      <td>0.244925</td>\n",
       "      <td>0.769231</td>\n",
       "      <td>0.5</td>\n",
       "      <td>0.631579</td>\n",
       "      <td>0.016667</td>\n",
       "      <td>0</td>\n",
       "      <td>1</td>\n",
       "      <td>0</td>\n",
       "      <td>0</td>\n",
       "      <td>0</td>\n",
       "      <td>0</td>\n",
       "      <td>0</td>\n",
       "      <td>0</td>\n",
       "      <td>0</td>\n",
       "      <td>0</td>\n",
       "      <td>0</td>\n",
       "      <td>0</td>\n",
       "      <td>0</td>\n",
       "      <td>0</td>\n",
       "      <td>0</td>\n",
       "      <td>0</td>\n",
       "      <td>0</td>\n",
       "      <td>0</td>\n",
       "      <td>0</td>\n",
       "      <td>0</td>\n",
       "      <td>0</td>\n",
       "      <td>0</td>\n",
       "      <td>0</td>\n",
       "      <td>0</td>\n",
       "      <td>0</td>\n",
       "      <td>0</td>\n",
       "      <td>0</td>\n",
       "      <td>0</td>\n",
       "      <td>0</td>\n",
       "      <td>0</td>\n",
       "      <td>0</td>\n",
       "      <td>0</td>\n",
       "      <td>0</td>\n",
       "      <td>0</td>\n",
       "      <td>0</td>\n",
       "      <td>0</td>\n",
       "      <td>0</td>\n",
       "      <td>0</td>\n",
       "      <td>0</td>\n",
       "      <td>0</td>\n",
       "      <td>0</td>\n",
       "      <td>0</td>\n",
       "      <td>0</td>\n",
       "      <td>0</td>\n",
       "      <td>0</td>\n",
       "      <td>0</td>\n",
       "      <td>0</td>\n",
       "      <td>0</td>\n",
       "      <td>0</td>\n",
       "      <td>0</td>\n",
       "      <td>0</td>\n",
       "      <td>0</td>\n",
       "      <td>0</td>\n",
       "      <td>0</td>\n",
       "      <td>0</td>\n",
       "      <td>0</td>\n",
       "      <td>0</td>\n",
       "      <td>1</td>\n",
       "      <td>0</td>\n",
       "      <td>0</td>\n",
       "      <td>0</td>\n",
       "      <td>0</td>\n",
       "      <td>0</td>\n",
       "      <td>0</td>\n",
       "      <td>0</td>\n",
       "      <td>0</td>\n",
       "      <td>0</td>\n",
       "      <td>0</td>\n",
       "      <td>0</td>\n",
       "      <td>1</td>\n",
       "      <td>0</td>\n",
       "      <td>0</td>\n",
       "      <td>0</td>\n",
       "      <td>0</td>\n",
       "      <td>0</td>\n",
       "      <td>0</td>\n",
       "      <td>1</td>\n",
       "      <td>0</td>\n",
       "      <td>0</td>\n",
       "      <td>0</td>\n",
       "      <td>0</td>\n",
       "      <td>0</td>\n",
       "      <td>0</td>\n",
       "      <td>0</td>\n",
       "      <td>0</td>\n",
       "      <td>0</td>\n",
       "      <td>1</td>\n",
       "      <td>0</td>\n",
       "      <td>0</td>\n",
       "      <td>0</td>\n",
       "      <td>0</td>\n",
       "      <td>0</td>\n",
       "      <td>0</td>\n",
       "      <td>0</td>\n",
       "      <td>0</td>\n",
       "      <td>0</td>\n",
       "      <td>0</td>\n",
       "    </tr>\n",
       "    <tr>\n",
       "      <th>3</th>\n",
       "      <td>0.619231</td>\n",
       "      <td>0.000000</td>\n",
       "      <td>0.565217</td>\n",
       "      <td>0.461538</td>\n",
       "      <td>0.244925</td>\n",
       "      <td>0.769231</td>\n",
       "      <td>0.3</td>\n",
       "      <td>0.263158</td>\n",
       "      <td>0.033333</td>\n",
       "      <td>0</td>\n",
       "      <td>0</td>\n",
       "      <td>0</td>\n",
       "      <td>0</td>\n",
       "      <td>0</td>\n",
       "      <td>1</td>\n",
       "      <td>0</td>\n",
       "      <td>0</td>\n",
       "      <td>0</td>\n",
       "      <td>0</td>\n",
       "      <td>0</td>\n",
       "      <td>0</td>\n",
       "      <td>0</td>\n",
       "      <td>0</td>\n",
       "      <td>0</td>\n",
       "      <td>0</td>\n",
       "      <td>0</td>\n",
       "      <td>0</td>\n",
       "      <td>0</td>\n",
       "      <td>0</td>\n",
       "      <td>0</td>\n",
       "      <td>0</td>\n",
       "      <td>0</td>\n",
       "      <td>0</td>\n",
       "      <td>0</td>\n",
       "      <td>0</td>\n",
       "      <td>0</td>\n",
       "      <td>0</td>\n",
       "      <td>0</td>\n",
       "      <td>0</td>\n",
       "      <td>0</td>\n",
       "      <td>0</td>\n",
       "      <td>0</td>\n",
       "      <td>0</td>\n",
       "      <td>0</td>\n",
       "      <td>0</td>\n",
       "      <td>0</td>\n",
       "      <td>0</td>\n",
       "      <td>0</td>\n",
       "      <td>0</td>\n",
       "      <td>0</td>\n",
       "      <td>1</td>\n",
       "      <td>0</td>\n",
       "      <td>0</td>\n",
       "      <td>0</td>\n",
       "      <td>0</td>\n",
       "      <td>0</td>\n",
       "      <td>0</td>\n",
       "      <td>0</td>\n",
       "      <td>0</td>\n",
       "      <td>0</td>\n",
       "      <td>0</td>\n",
       "      <td>0</td>\n",
       "      <td>0</td>\n",
       "      <td>0</td>\n",
       "      <td>0</td>\n",
       "      <td>0</td>\n",
       "      <td>0</td>\n",
       "      <td>0</td>\n",
       "      <td>0</td>\n",
       "      <td>0</td>\n",
       "      <td>0</td>\n",
       "      <td>0</td>\n",
       "      <td>0</td>\n",
       "      <td>0</td>\n",
       "      <td>0</td>\n",
       "      <td>0</td>\n",
       "      <td>0</td>\n",
       "      <td>0</td>\n",
       "      <td>1</td>\n",
       "      <td>0</td>\n",
       "      <td>0</td>\n",
       "      <td>0</td>\n",
       "      <td>0</td>\n",
       "      <td>0</td>\n",
       "      <td>0</td>\n",
       "      <td>0</td>\n",
       "      <td>1</td>\n",
       "      <td>0</td>\n",
       "      <td>0</td>\n",
       "      <td>0</td>\n",
       "      <td>0</td>\n",
       "      <td>0</td>\n",
       "      <td>0</td>\n",
       "      <td>0</td>\n",
       "      <td>0</td>\n",
       "      <td>1</td>\n",
       "      <td>1</td>\n",
       "      <td>0</td>\n",
       "      <td>0</td>\n",
       "      <td>0</td>\n",
       "      <td>0</td>\n",
       "      <td>0</td>\n",
       "      <td>0</td>\n",
       "      <td>1</td>\n",
       "      <td>0</td>\n",
       "      <td>0</td>\n",
       "    </tr>\n",
       "    <tr>\n",
       "      <th>4</th>\n",
       "      <td>0.657692</td>\n",
       "      <td>0.659574</td>\n",
       "      <td>0.521739</td>\n",
       "      <td>0.230769</td>\n",
       "      <td>0.244925</td>\n",
       "      <td>0.769231</td>\n",
       "      <td>0.7</td>\n",
       "      <td>0.578947</td>\n",
       "      <td>0.016667</td>\n",
       "      <td>0</td>\n",
       "      <td>0</td>\n",
       "      <td>0</td>\n",
       "      <td>0</td>\n",
       "      <td>0</td>\n",
       "      <td>0</td>\n",
       "      <td>0</td>\n",
       "      <td>0</td>\n",
       "      <td>0</td>\n",
       "      <td>1</td>\n",
       "      <td>0</td>\n",
       "      <td>0</td>\n",
       "      <td>0</td>\n",
       "      <td>0</td>\n",
       "      <td>0</td>\n",
       "      <td>0</td>\n",
       "      <td>0</td>\n",
       "      <td>0</td>\n",
       "      <td>0</td>\n",
       "      <td>0</td>\n",
       "      <td>0</td>\n",
       "      <td>0</td>\n",
       "      <td>0</td>\n",
       "      <td>0</td>\n",
       "      <td>0</td>\n",
       "      <td>0</td>\n",
       "      <td>0</td>\n",
       "      <td>0</td>\n",
       "      <td>0</td>\n",
       "      <td>0</td>\n",
       "      <td>0</td>\n",
       "      <td>0</td>\n",
       "      <td>0</td>\n",
       "      <td>0</td>\n",
       "      <td>0</td>\n",
       "      <td>0</td>\n",
       "      <td>0</td>\n",
       "      <td>0</td>\n",
       "      <td>0</td>\n",
       "      <td>0</td>\n",
       "      <td>0</td>\n",
       "      <td>0</td>\n",
       "      <td>0</td>\n",
       "      <td>0</td>\n",
       "      <td>0</td>\n",
       "      <td>0</td>\n",
       "      <td>0</td>\n",
       "      <td>0</td>\n",
       "      <td>0</td>\n",
       "      <td>0</td>\n",
       "      <td>0</td>\n",
       "      <td>0</td>\n",
       "      <td>0</td>\n",
       "      <td>0</td>\n",
       "      <td>0</td>\n",
       "      <td>0</td>\n",
       "      <td>0</td>\n",
       "      <td>1</td>\n",
       "      <td>0</td>\n",
       "      <td>0</td>\n",
       "      <td>0</td>\n",
       "      <td>0</td>\n",
       "      <td>0</td>\n",
       "      <td>0</td>\n",
       "      <td>0</td>\n",
       "      <td>0</td>\n",
       "      <td>0</td>\n",
       "      <td>0</td>\n",
       "      <td>0</td>\n",
       "      <td>1</td>\n",
       "      <td>0</td>\n",
       "      <td>0</td>\n",
       "      <td>0</td>\n",
       "      <td>0</td>\n",
       "      <td>0</td>\n",
       "      <td>0</td>\n",
       "      <td>0</td>\n",
       "      <td>1</td>\n",
       "      <td>0</td>\n",
       "      <td>0</td>\n",
       "      <td>0</td>\n",
       "      <td>0</td>\n",
       "      <td>0</td>\n",
       "      <td>0</td>\n",
       "      <td>0</td>\n",
       "      <td>0</td>\n",
       "      <td>1</td>\n",
       "      <td>0</td>\n",
       "      <td>1</td>\n",
       "      <td>0</td>\n",
       "      <td>0</td>\n",
       "      <td>0</td>\n",
       "      <td>0</td>\n",
       "      <td>0</td>\n",
       "      <td>1</td>\n",
       "      <td>0</td>\n",
       "      <td>0</td>\n",
       "    </tr>\n",
       "  </tbody>\n",
       "</table>\n",
       "</div>"
      ],
      "text/plain": [
       "   Transportation expense  Distance from Residence to Work  Service time       Age  Work load Average/day   Hit target  Height  Body mass index  Absenteeism time in hours  ID_2.0  ID_3.0  ID_4.0  ID_5.0  ID_6.0  ID_7.0  ID_8.0  ID_9.0  ID_10.0  ID_11.0  ID_12.0  ID_13.0  ID_14.0  ID_15.0  ID_16.0  ID_17.0  ID_18.0  ID_19.0  ID_20.0  ID_21.0  ID_22.0  ID_23.0  ID_24.0  ID_25.0  ID_26.0  ID_27.0  ID_28.0  ID_29.0  ID_30.0  ID_31.0  ID_32.0  ID_33.0  ID_34.0  ID_35.0  ID_36.0  Reason for absence_1.0  Reason for absence_2.0  Reason for absence_3.0  Reason for absence_4.0  Reason for absence_5.0  Reason for absence_6.0  Reason for absence_7.0  Reason for absence_8.0  Reason for absence_9.0  Reason for absence_10.0  Reason for absence_11.0  Reason for absence_12.0  Reason for absence_13.0  Reason for absence_14.0  Reason for absence_15.0  Reason for absence_16.0  Reason for absence_17.0  Reason for absence_18.0  Reason for absence_19.0  Reason for absence_20.0  Reason for absence_21.0  Reason for absence_22.0  Reason for absence_23.0  Reason for absence_24.0  Reason for absence_25.0  Reason for absence_26.0  Reason for absence_27.0  Reason for absence_28.0  Month of absence_1.0  Month of absence_2.0  Month of absence_3.0  Month of absence_4.0  Month of absence_5.0  Month of absence_6.0  Month of absence_7.0  Month of absence_8.0  Month of absence_9.0  Month of absence_10.0  Month of absence_11.0  Month of absence_12.0  Day of the week_3.0  Day of the week_4.0  Day of the week_5.0  Day of the week_6.0  Seasons_2.0  Seasons_3.0  Seasons_4.0  Disciplinary failure_1.0  Education_2.0  Education_3.0  Education_4.0  Social drinker_1.0  Social smoker_1.0  Pet_1.0  Pet_2.0  Pet_4.0  Pet_5.0  Pet_8.0  Son_1.0  Son_2.0  Son_3.0  Son_4.0\n",
       "0  0.657692                0.659574                         0.521739      0.230769  0.244925                0.769231    0.7     0.578947         0.033333                   0       0       0       0       0       0       0       0       0        1        0        0        0        0        0        0        0        0        0        0        0        0        0        0        0        0        0        0        0        0        0        0        0        0        0        0                       0                       0                       0                       0                       0                       0                       0                       0                       0                        0                        0                        0                        0                        0                        0                        0                        0                        0                        0                        0                        0                        0                        0                        0                        1                        0                        0                        0                     0                     0                     0                     0                     0                     1                     0                     0                     0                      0                      0                      1                    0                    0                    0                    0            0            0            0                         0              0              0              1                   0                  1        0        0        0        0        0        1        0        0      \n",
       "1  0.000000                0.170213                         0.739130      0.884615  0.244925                0.769231    0.5     0.631579         0.000000                   0       0       0       0       0       0       0       0       0        0        0        0        0        0        0        0        0        0        0        0        0        0        0        0        0        0        0        0        0        0        0        0        0        0        1        0                       0                       0                       0                       0                       0                       0                       0                       0                       0                        0                        0                        0                        0                        0                        0                        0                        0                        0                        0                        0                        0                        0                        0                        0                        0                        0                        0                        0                     0                     0                     0                     0                     0                     1                     0                     0                     0                      0                      0                      1                    0                    0                    0                    0            0            0            1                         0              0              0              1                   0                  0        0        0        0        0        1        0        0        0      \n",
       "2  0.234615                0.978723                         0.739130      0.423077  0.244925                0.769231    0.5     0.631579         0.016667                   0       1       0       0       0       0       0       0       0        0        0        0        0        0        0        0        0        0        0        0        0        0        0        0        0        0        0        0        0        0        0        0        0        0        0        0                       0                       0                       0                       0                       0                       0                       0                       0                       0                        0                        0                        0                        0                        0                        0                        0                        0                        0                        0                        0                        0                        1                        0                        0                        0                        0                        0                        0                     0                     0                     0                     0                     0                     1                     0                     0                     0                      0                      0                      0                    1                    0                    0                    0            0            0            0                         0              0              0              1                   0                  0        0        0        0        0        0        0        0        0      \n",
       "3  0.619231                0.000000                         0.565217      0.461538  0.244925                0.769231    0.3     0.263158         0.033333                   0       0       0       0       0       1       0       0       0        0        0        0        0        0        0        0        0        0        0        0        0        0        0        0        0        0        0        0        0        0        0        0        0        0        0        0                       0                       0                       0                       0                       0                       1                       0                       0                       0                        0                        0                        0                        0                        0                        0                        0                        0                        0                        0                        0                        0                        0                        0                        0                        0                        0                        0                        0                     0                     0                     0                     0                     0                     1                     0                     0                     0                      0                      0                      0                    0                    1                    0                    0            0            0            0                         0              0              0              1                   1                  0        0        0        0        0        0        1        0        0      \n",
       "4  0.657692                0.659574                         0.521739      0.230769  0.244925                0.769231    0.7     0.578947         0.016667                   0       0       0       0       0       0       0       0       0        1        0        0        0        0        0        0        0        0        0        0        0        0        0        0        0        0        0        0        0        0        0        0        0        0        0        0                       0                       0                       0                       0                       0                       0                       0                       0                       0                        0                        0                        0                        0                        0                        0                        0                        0                        0                        0                        0                        0                        1                        0                        0                        0                        0                        0                        0                     0                     0                     0                     0                     0                     1                     0                     0                     0                      0                      0                      0                    0                    1                    0                    0            0            0            0                         0              0              0              1                   0                  1        0        0        0        0        0        1        0        0      "
      ]
     },
     "execution_count": 40,
     "metadata": {},
     "output_type": "execute_result"
    }
   ],
   "source": [
    "dataEmpAbs.head()"
   ]
  },
  {
   "cell_type": "markdown",
   "metadata": {},
   "source": [
    "### Spliting the data into train test"
   ]
  },
  {
   "cell_type": "code",
   "execution_count": 41,
   "metadata": {},
   "outputs": [],
   "source": [
    "X = dataEmpAbs.drop('Absenteeism time in hours',axis=1)  # selecting all variables except the target variable\n",
    "y = dataEmpAbs['Absenteeism time in hours']"
   ]
  },
  {
   "cell_type": "code",
   "execution_count": 42,
   "metadata": {},
   "outputs": [],
   "source": [
    "from sklearn.model_selection import train_test_split"
   ]
  },
  {
   "cell_type": "code",
   "execution_count": 43,
   "metadata": {},
   "outputs": [],
   "source": [
    "X_train, X_test, y_train, y_test = train_test_split(X, y, test_size=0.3, random_state=101)"
   ]
  },
  {
   "cell_type": "markdown",
   "metadata": {},
   "source": [
    "##  Model"
   ]
  },
  {
   "cell_type": "markdown",
   "metadata": {},
   "source": [
    "#### RandomForest Regression"
   ]
  },
  {
   "cell_type": "code",
   "execution_count": 44,
   "metadata": {},
   "outputs": [],
   "source": [
    "from sklearn.ensemble import RandomForestRegressor # importing the Model"
   ]
  },
  {
   "cell_type": "code",
   "execution_count": 45,
   "metadata": {},
   "outputs": [],
   "source": [
    "rFr = RandomForestRegressor(n_estimators=100) # instantiate"
   ]
  },
  {
   "cell_type": "code",
   "execution_count": 46,
   "metadata": {},
   "outputs": [
    {
     "data": {
      "text/plain": [
       "RandomForestRegressor(bootstrap=True, criterion='mse', max_depth=None,\n",
       "                      max_features='auto', max_leaf_nodes=None,\n",
       "                      min_impurity_decrease=0.0, min_impurity_split=None,\n",
       "                      min_samples_leaf=1, min_samples_split=2,\n",
       "                      min_weight_fraction_leaf=0.0, n_estimators=100,\n",
       "                      n_jobs=None, oob_score=False, random_state=None,\n",
       "                      verbose=0, warm_start=False)"
      ]
     },
     "execution_count": 46,
     "metadata": {},
     "output_type": "execute_result"
    }
   ],
   "source": [
    "rFr.fit(X_train,y_train) # training the model with test data"
   ]
  },
  {
   "cell_type": "code",
   "execution_count": 47,
   "metadata": {},
   "outputs": [],
   "source": [
    "predictRfr = rFr.predict(X_test) # appling the model in test model and predicting the outcome"
   ]
  },
  {
   "cell_type": "code",
   "execution_count": 48,
   "metadata": {},
   "outputs": [],
   "source": [
    "compare = pd.DataFrame({'Predict':predictRfr, 'Actual':y_test})"
   ]
  },
  {
   "cell_type": "code",
   "execution_count": 49,
   "metadata": {},
   "outputs": [
    {
     "data": {
      "text/html": [
       "<div>\n",
       "<style scoped>\n",
       "    .dataframe tbody tr th:only-of-type {\n",
       "        vertical-align: middle;\n",
       "    }\n",
       "\n",
       "    .dataframe tbody tr th {\n",
       "        vertical-align: top;\n",
       "    }\n",
       "\n",
       "    .dataframe thead th {\n",
       "        text-align: right;\n",
       "    }\n",
       "</style>\n",
       "<table border=\"1\" class=\"dataframe\">\n",
       "  <thead>\n",
       "    <tr style=\"text-align: right;\">\n",
       "      <th></th>\n",
       "      <th>Predict</th>\n",
       "      <th>Actual</th>\n",
       "    </tr>\n",
       "  </thead>\n",
       "  <tbody>\n",
       "    <tr>\n",
       "      <th>446</th>\n",
       "      <td>0.045500</td>\n",
       "      <td>0.066667</td>\n",
       "    </tr>\n",
       "    <tr>\n",
       "      <th>593</th>\n",
       "      <td>0.020658</td>\n",
       "      <td>0.016667</td>\n",
       "    </tr>\n",
       "    <tr>\n",
       "      <th>372</th>\n",
       "      <td>0.061500</td>\n",
       "      <td>0.200000</td>\n",
       "    </tr>\n",
       "    <tr>\n",
       "      <th>384</th>\n",
       "      <td>0.048417</td>\n",
       "      <td>0.066667</td>\n",
       "    </tr>\n",
       "    <tr>\n",
       "      <th>614</th>\n",
       "      <td>0.019250</td>\n",
       "      <td>0.025000</td>\n",
       "    </tr>\n",
       "    <tr>\n",
       "      <th>425</th>\n",
       "      <td>0.034667</td>\n",
       "      <td>0.016667</td>\n",
       "    </tr>\n",
       "    <tr>\n",
       "      <th>278</th>\n",
       "      <td>0.061417</td>\n",
       "      <td>0.033333</td>\n",
       "    </tr>\n",
       "    <tr>\n",
       "      <th>681</th>\n",
       "      <td>0.015167</td>\n",
       "      <td>0.066667</td>\n",
       "    </tr>\n",
       "    <tr>\n",
       "      <th>549</th>\n",
       "      <td>0.187417</td>\n",
       "      <td>0.133333</td>\n",
       "    </tr>\n",
       "    <tr>\n",
       "      <th>352</th>\n",
       "      <td>0.026292</td>\n",
       "      <td>0.008333</td>\n",
       "    </tr>\n",
       "  </tbody>\n",
       "</table>\n",
       "</div>"
      ],
      "text/plain": [
       "      Predict    Actual\n",
       "446  0.045500  0.066667\n",
       "593  0.020658  0.016667\n",
       "372  0.061500  0.200000\n",
       "384  0.048417  0.066667\n",
       "614  0.019250  0.025000\n",
       "425  0.034667  0.016667\n",
       "278  0.061417  0.033333\n",
       "681  0.015167  0.066667\n",
       "549  0.187417  0.133333\n",
       "352  0.026292  0.008333"
      ]
     },
     "execution_count": 49,
     "metadata": {},
     "output_type": "execute_result"
    }
   ],
   "source": [
    "compare.head(10)"
   ]
  },
  {
   "cell_type": "code",
   "execution_count": 50,
   "metadata": {},
   "outputs": [],
   "source": [
    "from sklearn import metrics"
   ]
  },
  {
   "cell_type": "code",
   "execution_count": 51,
   "metadata": {},
   "outputs": [
    {
     "name": "stdout",
     "output_type": "stream",
     "text": [
      "MAE 0.043572090865667254\n",
      "MSE 0.015337820965162847\n",
      "RMSE 0.12384595659593756\n"
     ]
    }
   ],
   "source": [
    "print('MAE',metrics.mean_absolute_error(y_test,predictRfr))\n",
    "print('MSE',metrics.mean_squared_error(y_test,predictRfr))\n",
    "print('RMSE',np.sqrt(metrics.mean_squared_error(y_test,predictRfr)))"
   ]
  },
  {
   "cell_type": "code",
   "execution_count": 52,
   "metadata": {},
   "outputs": [],
   "source": [
    "predictRfr_Train = rFr.predict(X_train) # to compare the errors"
   ]
  },
  {
   "cell_type": "code",
   "execution_count": 53,
   "metadata": {},
   "outputs": [
    {
     "name": "stdout",
     "output_type": "stream",
     "text": [
      "MAE Train 0.01604679377727187\n",
      "MSE Train 0.0015857262963778576\n",
      "RMSE Train 0.03982117899281559\n"
     ]
    }
   ],
   "source": [
    "print('MAE Train',metrics.mean_absolute_error(y_train,predictRfr_Train))\n",
    "print('MSE Train',metrics.mean_squared_error(y_train,predictRfr_Train))\n",
    "print('RMSE Train',np.sqrt(metrics.mean_squared_error(y_train,predictRfr_Train)))"
   ]
  },
  {
   "cell_type": "markdown",
   "metadata": {},
   "source": [
    "### Linear Regression model"
   ]
  },
  {
   "cell_type": "code",
   "execution_count": 54,
   "metadata": {},
   "outputs": [],
   "source": [
    "from sklearn.linear_model import LinearRegression # importing the model class"
   ]
  },
  {
   "cell_type": "code",
   "execution_count": 55,
   "metadata": {},
   "outputs": [],
   "source": [
    "lR = LinearRegression() # instantiate"
   ]
  },
  {
   "cell_type": "code",
   "execution_count": 56,
   "metadata": {},
   "outputs": [
    {
     "data": {
      "text/plain": [
       "LinearRegression(copy_X=True, fit_intercept=True, n_jobs=None, normalize=False)"
      ]
     },
     "execution_count": 56,
     "metadata": {},
     "output_type": "execute_result"
    }
   ],
   "source": [
    "lR.fit(X_train,y_train) # training the model with train Data"
   ]
  },
  {
   "cell_type": "code",
   "execution_count": 57,
   "metadata": {},
   "outputs": [],
   "source": [
    "predictLr = lR.predict(X_test) # appling the model with test Data"
   ]
  },
  {
   "cell_type": "code",
   "execution_count": 58,
   "metadata": {},
   "outputs": [
    {
     "data": {
      "text/html": [
       "<div>\n",
       "<style scoped>\n",
       "    .dataframe tbody tr th:only-of-type {\n",
       "        vertical-align: middle;\n",
       "    }\n",
       "\n",
       "    .dataframe tbody tr th {\n",
       "        vertical-align: top;\n",
       "    }\n",
       "\n",
       "    .dataframe thead th {\n",
       "        text-align: right;\n",
       "    }\n",
       "</style>\n",
       "<table border=\"1\" class=\"dataframe\">\n",
       "  <thead>\n",
       "    <tr style=\"text-align: right;\">\n",
       "      <th></th>\n",
       "      <th>Predict</th>\n",
       "      <th>Actual</th>\n",
       "    </tr>\n",
       "  </thead>\n",
       "  <tbody>\n",
       "    <tr>\n",
       "      <th>446</th>\n",
       "      <td>0.005859</td>\n",
       "      <td>0.066667</td>\n",
       "    </tr>\n",
       "    <tr>\n",
       "      <th>593</th>\n",
       "      <td>0.028809</td>\n",
       "      <td>0.016667</td>\n",
       "    </tr>\n",
       "    <tr>\n",
       "      <th>372</th>\n",
       "      <td>0.030640</td>\n",
       "      <td>0.200000</td>\n",
       "    </tr>\n",
       "    <tr>\n",
       "      <th>384</th>\n",
       "      <td>0.022949</td>\n",
       "      <td>0.066667</td>\n",
       "    </tr>\n",
       "    <tr>\n",
       "      <th>614</th>\n",
       "      <td>0.063721</td>\n",
       "      <td>0.025000</td>\n",
       "    </tr>\n",
       "  </tbody>\n",
       "</table>\n",
       "</div>"
      ],
      "text/plain": [
       "      Predict    Actual\n",
       "446  0.005859  0.066667\n",
       "593  0.028809  0.016667\n",
       "372  0.030640  0.200000\n",
       "384  0.022949  0.066667\n",
       "614  0.063721  0.025000"
      ]
     },
     "execution_count": 58,
     "metadata": {},
     "output_type": "execute_result"
    }
   ],
   "source": [
    "compareLr = pd.DataFrame({'Predict':predictLr, 'Actual':y_test})\n",
    "compareLr.head()"
   ]
  },
  {
   "cell_type": "code",
   "execution_count": 59,
   "metadata": {},
   "outputs": [
    {
     "name": "stdout",
     "output_type": "stream",
     "text": [
      "MAE 3386485659.998168\n",
      "MSE 1.254750577639672e+21\n",
      "RMSE 35422458661.697556\n"
     ]
    }
   ],
   "source": [
    "print('MAE',metrics.mean_absolute_error(y_test,predictLr))\n",
    "print('MSE',metrics.mean_squared_error(y_test,predictLr))\n",
    "print('RMSE',np.sqrt(metrics.mean_squared_error(y_test,predictLr)))"
   ]
  },
  {
   "cell_type": "code",
   "execution_count": 60,
   "metadata": {},
   "outputs": [],
   "source": [
    "import statsmodels.api as sm"
   ]
  },
  {
   "cell_type": "code",
   "execution_count": 61,
   "metadata": {},
   "outputs": [],
   "source": [
    "model=sm.OLS(dataEmpAbs['Absenteeism time in hours'],dataEmpAbs.drop('Absenteeism time in hours',axis=1)).fit()"
   ]
  },
  {
   "cell_type": "code",
   "execution_count": 62,
   "metadata": {},
   "outputs": [
    {
     "data": {
      "text/html": [
       "<table class=\"simpletable\">\n",
       "<caption>OLS Regression Results</caption>\n",
       "<tr>\n",
       "  <th>Dep. Variable:</th>    <td>Absenteeism time in hours</td> <th>  R-squared:         </th> <td>   0.359</td>\n",
       "</tr>\n",
       "<tr>\n",
       "  <th>Model:</th>                       <td>OLS</td>            <th>  Adj. R-squared:    </th> <td>   0.266</td>\n",
       "</tr>\n",
       "<tr>\n",
       "  <th>Method:</th>                 <td>Least Squares</td>       <th>  F-statistic:       </th> <td>   3.860</td>\n",
       "</tr>\n",
       "<tr>\n",
       "  <th>Date:</th>                 <td>Wed, 02 Oct 2019</td>      <th>  Prob (F-statistic):</th> <td>8.89e-24</td>\n",
       "</tr>\n",
       "<tr>\n",
       "  <th>Time:</th>                     <td>12:28:25</td>          <th>  Log-Likelihood:    </th> <td>  711.51</td>\n",
       "</tr>\n",
       "<tr>\n",
       "  <th>No. Observations:</th>          <td>   718</td>           <th>  AIC:               </th> <td>  -1239.</td>\n",
       "</tr>\n",
       "<tr>\n",
       "  <th>Df Residuals:</th>              <td>   626</td>           <th>  BIC:               </th> <td>  -818.0</td>\n",
       "</tr>\n",
       "<tr>\n",
       "  <th>Df Model:</th>                  <td>    91</td>           <th>                     </th>     <td> </td>   \n",
       "</tr>\n",
       "<tr>\n",
       "  <th>Covariance Type:</th>          <td>nonrobust</td>         <th>                     </th>     <td> </td>   \n",
       "</tr>\n",
       "</table>\n",
       "<table class=\"simpletable\">\n",
       "<tr>\n",
       "                 <td></td>                    <th>coef</th>     <th>std err</th>      <th>t</th>      <th>P>|t|</th>  <th>[0.025</th>    <th>0.975]</th>  \n",
       "</tr>\n",
       "<tr>\n",
       "  <th>Transportation expense</th>          <td>   -0.2093</td> <td>    0.350</td> <td>   -0.598</td> <td> 0.550</td> <td>   -0.897</td> <td>    0.479</td>\n",
       "</tr>\n",
       "<tr>\n",
       "  <th>Distance from Residence to Work</th> <td>    0.1110</td> <td>    0.262</td> <td>    0.424</td> <td> 0.672</td> <td>   -0.403</td> <td>    0.625</td>\n",
       "</tr>\n",
       "<tr>\n",
       "  <th>Service time</th>                    <td>    2.3368</td> <td>    7.965</td> <td>    0.293</td> <td> 0.769</td> <td>  -13.304</td> <td>   17.978</td>\n",
       "</tr>\n",
       "<tr>\n",
       "  <th>Age</th>                             <td>    2.5777</td> <td>    0.321</td> <td>    8.041</td> <td> 0.000</td> <td>    1.948</td> <td>    3.207</td>\n",
       "</tr>\n",
       "<tr>\n",
       "  <th>Work load Average/day </th>          <td>   -0.0216</td> <td>    0.021</td> <td>   -1.051</td> <td> 0.294</td> <td>   -0.062</td> <td>    0.019</td>\n",
       "</tr>\n",
       "<tr>\n",
       "  <th>Hit target</th>                      <td>    0.0335</td> <td>    0.024</td> <td>    1.396</td> <td> 0.163</td> <td>   -0.014</td> <td>    0.081</td>\n",
       "</tr>\n",
       "<tr>\n",
       "  <th>Height</th>                          <td>   -0.1190</td> <td>    0.109</td> <td>   -1.089</td> <td> 0.276</td> <td>   -0.334</td> <td>    0.096</td>\n",
       "</tr>\n",
       "<tr>\n",
       "  <th>Body mass index</th>                 <td>    0.0891</td> <td>    0.224</td> <td>    0.398</td> <td> 0.691</td> <td>   -0.350</td> <td>    0.528</td>\n",
       "</tr>\n",
       "<tr>\n",
       "  <th>ID_2.0</th>                          <td>   -0.8018</td> <td>    0.617</td> <td>   -1.300</td> <td> 0.194</td> <td>   -2.013</td> <td>    0.409</td>\n",
       "</tr>\n",
       "<tr>\n",
       "  <th>ID_3.0</th>                          <td>   -1.7138</td> <td>    3.697</td> <td>   -0.464</td> <td> 0.643</td> <td>   -8.973</td> <td>    5.546</td>\n",
       "</tr>\n",
       "<tr>\n",
       "  <th>ID_4.0</th>                          <td>   -0.9240</td> <td>    1.745</td> <td>   -0.529</td> <td> 0.597</td> <td>   -4.351</td> <td>    2.503</td>\n",
       "</tr>\n",
       "<tr>\n",
       "  <th>ID_5.0</th>                          <td>   -0.7158</td> <td>    0.433</td> <td>   -1.653</td> <td> 0.099</td> <td>   -1.566</td> <td>    0.135</td>\n",
       "</tr>\n",
       "<tr>\n",
       "  <th>ID_6.0</th>                          <td>   -0.0296</td> <td>    0.506</td> <td>   -0.059</td> <td> 0.953</td> <td>   -1.023</td> <td>    0.963</td>\n",
       "</tr>\n",
       "<tr>\n",
       "  <th>ID_7.0</th>                          <td>    0.7311</td> <td>    0.978</td> <td>    0.747</td> <td> 0.455</td> <td>   -1.190</td> <td>    2.652</td>\n",
       "</tr>\n",
       "<tr>\n",
       "  <th>ID_8.0</th>                          <td>    0.4645</td> <td>    1.356</td> <td>    0.343</td> <td> 0.732</td> <td>   -2.198</td> <td>    3.127</td>\n",
       "</tr>\n",
       "<tr>\n",
       "  <th>ID_9.0</th>                          <td>   -0.0538</td> <td>    1.935</td> <td>   -0.028</td> <td> 0.978</td> <td>   -3.853</td> <td>    3.745</td>\n",
       "</tr>\n",
       "<tr>\n",
       "  <th>ID_10.0</th>                         <td>    1.2947</td> <td>    2.107</td> <td>    0.614</td> <td> 0.539</td> <td>   -2.843</td> <td>    5.432</td>\n",
       "</tr>\n",
       "<tr>\n",
       "  <th>ID_11.0</th>                         <td>    1.2499</td> <td>    1.310</td> <td>    0.954</td> <td> 0.340</td> <td>   -1.322</td> <td>    3.822</td>\n",
       "</tr>\n",
       "<tr>\n",
       "  <th>ID_12.0</th>                         <td>    1.4403</td> <td>    3.084</td> <td>    0.467</td> <td> 0.641</td> <td>   -4.617</td> <td>    7.497</td>\n",
       "</tr>\n",
       "<tr>\n",
       "  <th>ID_13.0</th>                         <td>   -0.0535</td> <td>    0.821</td> <td>   -0.065</td> <td> 0.948</td> <td>   -1.666</td> <td>    1.559</td>\n",
       "</tr>\n",
       "<tr>\n",
       "  <th>ID_14.0</th>                         <td>    0.3381</td> <td>    0.106</td> <td>    3.194</td> <td> 0.001</td> <td>    0.130</td> <td>    0.546</td>\n",
       "</tr>\n",
       "<tr>\n",
       "  <th>ID_15.0</th>                         <td>    0.5393</td> <td>    0.974</td> <td>    0.554</td> <td> 0.580</td> <td>   -1.373</td> <td>    2.451</td>\n",
       "</tr>\n",
       "<tr>\n",
       "  <th>ID_16.0</th>                         <td>   -1.2447</td> <td>    2.498</td> <td>   -0.498</td> <td> 0.618</td> <td>   -6.150</td> <td>    3.660</td>\n",
       "</tr>\n",
       "<tr>\n",
       "  <th>ID_17.0</th>                         <td>   -0.8486</td> <td>    1.605</td> <td>   -0.529</td> <td> 0.597</td> <td>   -4.000</td> <td>    2.302</td>\n",
       "</tr>\n",
       "<tr>\n",
       "  <th>ID_18.0</th>                         <td>    0.0445</td> <td>    0.418</td> <td>    0.106</td> <td> 0.915</td> <td>   -0.777</td> <td>    0.866</td>\n",
       "</tr>\n",
       "<tr>\n",
       "  <th>ID_19.0</th>                         <td>   -0.3932</td> <td>    1.624</td> <td>   -0.242</td> <td> 0.809</td> <td>   -3.582</td> <td>    2.795</td>\n",
       "</tr>\n",
       "<tr>\n",
       "  <th>ID_20.0</th>                         <td>   -0.3528</td> <td>    0.640</td> <td>   -0.552</td> <td> 0.581</td> <td>   -1.609</td> <td>    0.903</td>\n",
       "</tr>\n",
       "<tr>\n",
       "  <th>ID_21.0</th>                         <td>   -0.9313</td> <td>    1.771</td> <td>   -0.526</td> <td> 0.599</td> <td>   -4.408</td> <td>    2.546</td>\n",
       "</tr>\n",
       "<tr>\n",
       "  <th>ID_22.0</th>                         <td>   -0.4578</td> <td>    0.868</td> <td>   -0.527</td> <td> 0.598</td> <td>   -2.163</td> <td>    1.247</td>\n",
       "</tr>\n",
       "<tr>\n",
       "  <th>ID_23.0</th>                         <td>   -0.6615</td> <td>    1.153</td> <td>   -0.574</td> <td> 0.566</td> <td>   -2.926</td> <td>    1.603</td>\n",
       "</tr>\n",
       "<tr>\n",
       "  <th>ID_24.0</th>                         <td>   -1.6557</td> <td>    3.007</td> <td>   -0.551</td> <td> 0.582</td> <td>   -7.560</td> <td>    4.249</td>\n",
       "</tr>\n",
       "<tr>\n",
       "  <th>ID_25.0</th>                         <td>   -0.5371</td> <td>    0.529</td> <td>   -1.015</td> <td> 0.311</td> <td>   -1.576</td> <td>    0.502</td>\n",
       "</tr>\n",
       "<tr>\n",
       "  <th>ID_26.0</th>                         <td>    1.0674</td> <td>    2.342</td> <td>    0.456</td> <td> 0.649</td> <td>   -3.532</td> <td>    5.667</td>\n",
       "</tr>\n",
       "<tr>\n",
       "  <th>ID_27.0</th>                         <td>   -0.6517</td> <td>    2.090</td> <td>   -0.312</td> <td> 0.755</td> <td>   -4.755</td> <td>    3.452</td>\n",
       "</tr>\n",
       "<tr>\n",
       "  <th>ID_28.0</th>                         <td>    0.7626</td> <td>    0.237</td> <td>    3.216</td> <td> 0.001</td> <td>    0.297</td> <td>    1.228</td>\n",
       "</tr>\n",
       "<tr>\n",
       "  <th>ID_29.0</th>                         <td>    0.7357</td> <td>    0.245</td> <td>    3.004</td> <td> 0.003</td> <td>    0.255</td> <td>    1.217</td>\n",
       "</tr>\n",
       "<tr>\n",
       "  <th>ID_30.0</th>                         <td>    1.0987</td> <td>    1.507</td> <td>    0.729</td> <td> 0.466</td> <td>   -1.861</td> <td>    4.058</td>\n",
       "</tr>\n",
       "<tr>\n",
       "  <th>ID_31.0</th>                         <td>   -3.0463</td> <td>    2.797</td> <td>   -1.089</td> <td> 0.277</td> <td>   -8.539</td> <td>    2.447</td>\n",
       "</tr>\n",
       "<tr>\n",
       "  <th>ID_32.0</th>                         <td>   -2.6600</td> <td>    2.704</td> <td>   -0.984</td> <td> 0.326</td> <td>   -7.970</td> <td>    2.650</td>\n",
       "</tr>\n",
       "<tr>\n",
       "  <th>ID_33.0</th>                         <td>   -1.5920</td> <td>    1.261</td> <td>   -1.262</td> <td> 0.207</td> <td>   -4.069</td> <td>    0.885</td>\n",
       "</tr>\n",
       "<tr>\n",
       "  <th>ID_34.0</th>                         <td>   -1.9224</td> <td>    3.125</td> <td>   -0.615</td> <td> 0.539</td> <td>   -8.060</td> <td>    4.215</td>\n",
       "</tr>\n",
       "<tr>\n",
       "  <th>ID_35.0</th>                         <td>   -2.2659</td> <td>    1.934</td> <td>   -1.171</td> <td> 0.242</td> <td>   -6.065</td> <td>    1.533</td>\n",
       "</tr>\n",
       "<tr>\n",
       "  <th>ID_36.0</th>                         <td>   -1.8727</td> <td>    2.142</td> <td>   -0.874</td> <td> 0.382</td> <td>   -6.080</td> <td>    2.335</td>\n",
       "</tr>\n",
       "<tr>\n",
       "  <th>Reason for absence_1.0</th>          <td>    0.0471</td> <td>    0.049</td> <td>    0.970</td> <td> 0.332</td> <td>   -0.048</td> <td>    0.142</td>\n",
       "</tr>\n",
       "<tr>\n",
       "  <th>Reason for absence_2.0</th>          <td>    0.1399</td> <td>    0.107</td> <td>    1.313</td> <td> 0.190</td> <td>   -0.069</td> <td>    0.349</td>\n",
       "</tr>\n",
       "<tr>\n",
       "  <th>Reason for absence_3.0</th>          <td>   -0.0055</td> <td>    0.105</td> <td>   -0.053</td> <td> 0.958</td> <td>   -0.212</td> <td>    0.201</td>\n",
       "</tr>\n",
       "<tr>\n",
       "  <th>Reason for absence_4.0</th>          <td>    0.0188</td> <td>    0.085</td> <td>    0.221</td> <td> 0.826</td> <td>   -0.148</td> <td>    0.186</td>\n",
       "</tr>\n",
       "<tr>\n",
       "  <th>Reason for absence_5.0</th>          <td>    0.0027</td> <td>    0.070</td> <td>    0.039</td> <td> 0.969</td> <td>   -0.134</td> <td>    0.140</td>\n",
       "</tr>\n",
       "<tr>\n",
       "  <th>Reason for absence_6.0</th>          <td>   -0.0113</td> <td>    0.057</td> <td>   -0.197</td> <td> 0.844</td> <td>   -0.124</td> <td>    0.101</td>\n",
       "</tr>\n",
       "<tr>\n",
       "  <th>Reason for absence_7.0</th>          <td>    0.0175</td> <td>    0.049</td> <td>    0.360</td> <td> 0.719</td> <td>   -0.078</td> <td>    0.113</td>\n",
       "</tr>\n",
       "<tr>\n",
       "  <th>Reason for absence_8.0</th>          <td>    0.0036</td> <td>    0.058</td> <td>    0.062</td> <td> 0.951</td> <td>   -0.111</td> <td>    0.118</td>\n",
       "</tr>\n",
       "<tr>\n",
       "  <th>Reason for absence_9.0</th>          <td>    0.3048</td> <td>    0.065</td> <td>    4.695</td> <td> 0.000</td> <td>    0.177</td> <td>    0.432</td>\n",
       "</tr>\n",
       "<tr>\n",
       "  <th>Reason for absence_10.0</th>         <td>    0.0384</td> <td>    0.046</td> <td>    0.829</td> <td> 0.408</td> <td>   -0.053</td> <td>    0.130</td>\n",
       "</tr>\n",
       "<tr>\n",
       "  <th>Reason for absence_11.0</th>         <td>    0.0168</td> <td>    0.046</td> <td>    0.362</td> <td> 0.718</td> <td>   -0.074</td> <td>    0.108</td>\n",
       "</tr>\n",
       "<tr>\n",
       "  <th>Reason for absence_12.0</th>         <td>    0.0871</td> <td>    0.054</td> <td>    1.608</td> <td> 0.108</td> <td>   -0.019</td> <td>    0.193</td>\n",
       "</tr>\n",
       "<tr>\n",
       "  <th>Reason for absence_13.0</th>         <td>    0.0737</td> <td>    0.044</td> <td>    1.686</td> <td> 0.092</td> <td>   -0.012</td> <td>    0.160</td>\n",
       "</tr>\n",
       "<tr>\n",
       "  <th>Reason for absence_14.0</th>         <td>    0.0027</td> <td>    0.048</td> <td>    0.057</td> <td> 0.955</td> <td>   -0.092</td> <td>    0.097</td>\n",
       "</tr>\n",
       "<tr>\n",
       "  <th>Reason for absence_15.0</th>         <td>   -0.0337</td> <td>    0.083</td> <td>   -0.408</td> <td> 0.684</td> <td>   -0.196</td> <td>    0.128</td>\n",
       "</tr>\n",
       "<tr>\n",
       "  <th>Reason for absence_16.0</th>         <td>   -0.0399</td> <td>    0.072</td> <td>   -0.551</td> <td> 0.582</td> <td>   -0.182</td> <td>    0.102</td>\n",
       "</tr>\n",
       "<tr>\n",
       "  <th>Reason for absence_17.0</th>         <td>    0.0114</td> <td>    0.107</td> <td>    0.106</td> <td> 0.915</td> <td>   -0.199</td> <td>    0.222</td>\n",
       "</tr>\n",
       "<tr>\n",
       "  <th>Reason for absence_18.0</th>         <td>    0.0170</td> <td>    0.047</td> <td>    0.361</td> <td> 0.718</td> <td>   -0.075</td> <td>    0.109</td>\n",
       "</tr>\n",
       "<tr>\n",
       "  <th>Reason for absence_19.0</th>         <td>    0.1067</td> <td>    0.045</td> <td>    2.387</td> <td> 0.017</td> <td>    0.019</td> <td>    0.195</td>\n",
       "</tr>\n",
       "<tr>\n",
       "  <th>Reason for absence_20.0</th>         <td>    0.0033</td> <td>    0.110</td> <td>    0.030</td> <td> 0.976</td> <td>   -0.212</td> <td>    0.219</td>\n",
       "</tr>\n",
       "<tr>\n",
       "  <th>Reason for absence_21.0</th>         <td>    0.0040</td> <td>    0.058</td> <td>    0.068</td> <td> 0.946</td> <td>   -0.110</td> <td>    0.118</td>\n",
       "</tr>\n",
       "<tr>\n",
       "  <th>Reason for absence_22.0</th>         <td>    0.0113</td> <td>    0.046</td> <td>    0.247</td> <td> 0.805</td> <td>   -0.078</td> <td>    0.101</td>\n",
       "</tr>\n",
       "<tr>\n",
       "  <th>Reason for absence_23.0</th>         <td>   -0.0275</td> <td>    0.043</td> <td>   -0.644</td> <td> 0.520</td> <td>   -0.111</td> <td>    0.056</td>\n",
       "</tr>\n",
       "<tr>\n",
       "  <th>Reason for absence_24.0</th>         <td>   -0.0061</td> <td>    0.070</td> <td>   -0.086</td> <td> 0.931</td> <td>   -0.144</td> <td>    0.132</td>\n",
       "</tr>\n",
       "<tr>\n",
       "  <th>Reason for absence_25.0</th>         <td>   -0.0009</td> <td>    0.046</td> <td>   -0.020</td> <td> 0.984</td> <td>   -0.091</td> <td>    0.089</td>\n",
       "</tr>\n",
       "<tr>\n",
       "  <th>Reason for absence_26.0</th>         <td>    0.0051</td> <td>    0.045</td> <td>    0.113</td> <td> 0.910</td> <td>   -0.084</td> <td>    0.094</td>\n",
       "</tr>\n",
       "<tr>\n",
       "  <th>Reason for absence_27.0</th>         <td>   -0.0175</td> <td>    0.044</td> <td>   -0.397</td> <td> 0.691</td> <td>   -0.104</td> <td>    0.069</td>\n",
       "</tr>\n",
       "<tr>\n",
       "  <th>Reason for absence_28.0</th>         <td>   -0.0287</td> <td>    0.043</td> <td>   -0.667</td> <td> 0.505</td> <td>   -0.113</td> <td>    0.056</td>\n",
       "</tr>\n",
       "<tr>\n",
       "  <th>Month of absence_1.0</th>            <td>    0.0286</td> <td>    0.101</td> <td>    0.284</td> <td> 0.777</td> <td>   -0.169</td> <td>    0.226</td>\n",
       "</tr>\n",
       "<tr>\n",
       "  <th>Month of absence_2.0</th>            <td>    0.0302</td> <td>    0.100</td> <td>    0.302</td> <td> 0.763</td> <td>   -0.166</td> <td>    0.226</td>\n",
       "</tr>\n",
       "<tr>\n",
       "  <th>Month of absence_3.0</th>            <td>    0.0450</td> <td>    0.100</td> <td>    0.451</td> <td> 0.652</td> <td>   -0.151</td> <td>    0.241</td>\n",
       "</tr>\n",
       "<tr>\n",
       "  <th>Month of absence_4.0</th>            <td>    0.0531</td> <td>    0.101</td> <td>    0.524</td> <td> 0.600</td> <td>   -0.146</td> <td>    0.252</td>\n",
       "</tr>\n",
       "<tr>\n",
       "  <th>Month of absence_5.0</th>            <td>    0.0184</td> <td>    0.102</td> <td>    0.180</td> <td> 0.857</td> <td>   -0.181</td> <td>    0.218</td>\n",
       "</tr>\n",
       "<tr>\n",
       "  <th>Month of absence_6.0</th>            <td>    0.0692</td> <td>    0.101</td> <td>    0.682</td> <td> 0.495</td> <td>   -0.130</td> <td>    0.268</td>\n",
       "</tr>\n",
       "<tr>\n",
       "  <th>Month of absence_7.0</th>            <td>    0.0860</td> <td>    0.104</td> <td>    0.829</td> <td> 0.407</td> <td>   -0.118</td> <td>    0.290</td>\n",
       "</tr>\n",
       "<tr>\n",
       "  <th>Month of absence_8.0</th>            <td>    0.0733</td> <td>    0.104</td> <td>    0.705</td> <td> 0.481</td> <td>   -0.131</td> <td>    0.277</td>\n",
       "</tr>\n",
       "<tr>\n",
       "  <th>Month of absence_9.0</th>            <td>    0.0814</td> <td>    0.101</td> <td>    0.804</td> <td> 0.422</td> <td>   -0.117</td> <td>    0.280</td>\n",
       "</tr>\n",
       "<tr>\n",
       "  <th>Month of absence_10.0</th>           <td>    0.0694</td> <td>    0.102</td> <td>    0.680</td> <td> 0.497</td> <td>   -0.131</td> <td>    0.270</td>\n",
       "</tr>\n",
       "<tr>\n",
       "  <th>Month of absence_11.0</th>           <td>    0.0749</td> <td>    0.102</td> <td>    0.737</td> <td> 0.462</td> <td>   -0.125</td> <td>    0.275</td>\n",
       "</tr>\n",
       "<tr>\n",
       "  <th>Month of absence_12.0</th>           <td>    0.0765</td> <td>    0.101</td> <td>    0.760</td> <td> 0.448</td> <td>   -0.121</td> <td>    0.274</td>\n",
       "</tr>\n",
       "<tr>\n",
       "  <th>Day of the week_3.0</th>             <td>    0.0034</td> <td>    0.012</td> <td>    0.287</td> <td> 0.774</td> <td>   -0.020</td> <td>    0.027</td>\n",
       "</tr>\n",
       "<tr>\n",
       "  <th>Day of the week_4.0</th>             <td>-6.842e-05</td> <td>    0.012</td> <td>   -0.006</td> <td> 0.995</td> <td>   -0.023</td> <td>    0.023</td>\n",
       "</tr>\n",
       "<tr>\n",
       "  <th>Day of the week_5.0</th>             <td>   -0.0297</td> <td>    0.012</td> <td>   -2.399</td> <td> 0.017</td> <td>   -0.054</td> <td>   -0.005</td>\n",
       "</tr>\n",
       "<tr>\n",
       "  <th>Day of the week_6.0</th>             <td>   -0.0112</td> <td>    0.012</td> <td>   -0.907</td> <td> 0.365</td> <td>   -0.035</td> <td>    0.013</td>\n",
       "</tr>\n",
       "<tr>\n",
       "  <th>Seasons_2.0</th>                     <td>    0.0425</td> <td>    0.030</td> <td>    1.417</td> <td> 0.157</td> <td>   -0.016</td> <td>    0.101</td>\n",
       "</tr>\n",
       "<tr>\n",
       "  <th>Seasons_3.0</th>                     <td>    0.0415</td> <td>    0.027</td> <td>    1.553</td> <td> 0.121</td> <td>   -0.011</td> <td>    0.094</td>\n",
       "</tr>\n",
       "<tr>\n",
       "  <th>Seasons_4.0</th>                     <td>    0.0224</td> <td>    0.026</td> <td>    0.860</td> <td> 0.390</td> <td>   -0.029</td> <td>    0.073</td>\n",
       "</tr>\n",
       "<tr>\n",
       "  <th>Disciplinary failure_1.0</th>        <td>   -0.0348</td> <td>    0.043</td> <td>   -0.799</td> <td> 0.425</td> <td>   -0.120</td> <td>    0.051</td>\n",
       "</tr>\n",
       "<tr>\n",
       "  <th>Education_2.0</th>                   <td>   -0.2953</td> <td>    0.679</td> <td>   -0.435</td> <td> 0.664</td> <td>   -1.629</td> <td>    1.039</td>\n",
       "</tr>\n",
       "<tr>\n",
       "  <th>Education_3.0</th>                   <td>   -0.6310</td> <td>    1.920</td> <td>   -0.329</td> <td> 0.743</td> <td>   -4.401</td> <td>    3.139</td>\n",
       "</tr>\n",
       "<tr>\n",
       "  <th>Education_4.0</th>                   <td>   -0.5072</td> <td>    0.809</td> <td>   -0.627</td> <td> 0.531</td> <td>   -2.095</td> <td>    1.081</td>\n",
       "</tr>\n",
       "<tr>\n",
       "  <th>Social drinker_1.0</th>              <td>   -1.2096</td> <td>    2.199</td> <td>   -0.550</td> <td> 0.582</td> <td>   -5.528</td> <td>    3.109</td>\n",
       "</tr>\n",
       "<tr>\n",
       "  <th>Social smoker_1.0</th>               <td>   -0.6594</td> <td>    1.041</td> <td>   -0.633</td> <td> 0.527</td> <td>   -2.705</td> <td>    1.386</td>\n",
       "</tr>\n",
       "<tr>\n",
       "  <th>Pet_1.0</th>                         <td>   -0.6912</td> <td>    1.031</td> <td>   -0.670</td> <td> 0.503</td> <td>   -2.716</td> <td>    1.334</td>\n",
       "</tr>\n",
       "<tr>\n",
       "  <th>Pet_2.0</th>                         <td>   -0.7268</td> <td>    1.426</td> <td>   -0.510</td> <td> 0.610</td> <td>   -3.527</td> <td>    2.074</td>\n",
       "</tr>\n",
       "<tr>\n",
       "  <th>Pet_4.0</th>                         <td>    0.6332</td> <td>    0.977</td> <td>    0.648</td> <td> 0.517</td> <td>   -1.285</td> <td>    2.551</td>\n",
       "</tr>\n",
       "<tr>\n",
       "  <th>Pet_5.0</th>                         <td>   -0.8018</td> <td>    0.617</td> <td>   -1.300</td> <td> 0.194</td> <td>   -2.013</td> <td>    0.409</td>\n",
       "</tr>\n",
       "<tr>\n",
       "  <th>Pet_8.0</th>                         <td>    0.5162</td> <td>    1.345</td> <td>    0.384</td> <td> 0.701</td> <td>   -2.125</td> <td>    3.158</td>\n",
       "</tr>\n",
       "<tr>\n",
       "  <th>Son_1.0</th>                         <td>   -0.9364</td> <td>    1.565</td> <td>   -0.598</td> <td> 0.550</td> <td>   -4.010</td> <td>    2.137</td>\n",
       "</tr>\n",
       "<tr>\n",
       "  <th>Son_2.0</th>                         <td>   -1.0866</td> <td>    2.241</td> <td>   -0.485</td> <td> 0.628</td> <td>   -5.487</td> <td>    3.314</td>\n",
       "</tr>\n",
       "<tr>\n",
       "  <th>Son_3.0</th>                         <td>   -0.0535</td> <td>    0.821</td> <td>   -0.065</td> <td> 0.948</td> <td>   -1.666</td> <td>    1.559</td>\n",
       "</tr>\n",
       "<tr>\n",
       "  <th>Son_4.0</th>                         <td>   -0.3528</td> <td>    0.640</td> <td>   -0.552</td> <td> 0.581</td> <td>   -1.609</td> <td>    0.903</td>\n",
       "</tr>\n",
       "</table>\n",
       "<table class=\"simpletable\">\n",
       "<tr>\n",
       "  <th>Omnibus:</th>       <td>647.524</td> <th>  Durbin-Watson:     </th> <td>   1.986</td> \n",
       "</tr>\n",
       "<tr>\n",
       "  <th>Prob(Omnibus):</th> <td> 0.000</td>  <th>  Jarque-Bera (JB):  </th> <td>26519.415</td>\n",
       "</tr>\n",
       "<tr>\n",
       "  <th>Skew:</th>          <td> 3.906</td>  <th>  Prob(JB):          </th> <td>    0.00</td> \n",
       "</tr>\n",
       "<tr>\n",
       "  <th>Kurtosis:</th>      <td>31.730</td>  <th>  Cond. No.          </th> <td>1.22e+16</td> \n",
       "</tr>\n",
       "</table><br/><br/>Warnings:<br/>[1] Standard Errors assume that the covariance matrix of the errors is correctly specified.<br/>[2] The smallest eigenvalue is 1.47e-29. This might indicate that there are<br/>strong multicollinearity problems or that the design matrix is singular."
      ],
      "text/plain": [
       "<class 'statsmodels.iolib.summary.Summary'>\n",
       "\"\"\"\n",
       "                                OLS Regression Results                               \n",
       "=====================================================================================\n",
       "Dep. Variable:     Absenteeism time in hours   R-squared:                       0.359\n",
       "Model:                                   OLS   Adj. R-squared:                  0.266\n",
       "Method:                        Least Squares   F-statistic:                     3.860\n",
       "Date:                       Wed, 02 Oct 2019   Prob (F-statistic):           8.89e-24\n",
       "Time:                               12:28:25   Log-Likelihood:                 711.51\n",
       "No. Observations:                        718   AIC:                            -1239.\n",
       "Df Residuals:                            626   BIC:                            -818.0\n",
       "Df Model:                                 91                                         \n",
       "Covariance Type:                   nonrobust                                         \n",
       "===================================================================================================\n",
       "                                      coef    std err          t      P>|t|      [0.025      0.975]\n",
       "---------------------------------------------------------------------------------------------------\n",
       "Transportation expense             -0.2093      0.350     -0.598      0.550      -0.897       0.479\n",
       "Distance from Residence to Work     0.1110      0.262      0.424      0.672      -0.403       0.625\n",
       "Service time                        2.3368      7.965      0.293      0.769     -13.304      17.978\n",
       "Age                                 2.5777      0.321      8.041      0.000       1.948       3.207\n",
       "Work load Average/day              -0.0216      0.021     -1.051      0.294      -0.062       0.019\n",
       "Hit target                          0.0335      0.024      1.396      0.163      -0.014       0.081\n",
       "Height                             -0.1190      0.109     -1.089      0.276      -0.334       0.096\n",
       "Body mass index                     0.0891      0.224      0.398      0.691      -0.350       0.528\n",
       "ID_2.0                             -0.8018      0.617     -1.300      0.194      -2.013       0.409\n",
       "ID_3.0                             -1.7138      3.697     -0.464      0.643      -8.973       5.546\n",
       "ID_4.0                             -0.9240      1.745     -0.529      0.597      -4.351       2.503\n",
       "ID_5.0                             -0.7158      0.433     -1.653      0.099      -1.566       0.135\n",
       "ID_6.0                             -0.0296      0.506     -0.059      0.953      -1.023       0.963\n",
       "ID_7.0                              0.7311      0.978      0.747      0.455      -1.190       2.652\n",
       "ID_8.0                              0.4645      1.356      0.343      0.732      -2.198       3.127\n",
       "ID_9.0                             -0.0538      1.935     -0.028      0.978      -3.853       3.745\n",
       "ID_10.0                             1.2947      2.107      0.614      0.539      -2.843       5.432\n",
       "ID_11.0                             1.2499      1.310      0.954      0.340      -1.322       3.822\n",
       "ID_12.0                             1.4403      3.084      0.467      0.641      -4.617       7.497\n",
       "ID_13.0                            -0.0535      0.821     -0.065      0.948      -1.666       1.559\n",
       "ID_14.0                             0.3381      0.106      3.194      0.001       0.130       0.546\n",
       "ID_15.0                             0.5393      0.974      0.554      0.580      -1.373       2.451\n",
       "ID_16.0                            -1.2447      2.498     -0.498      0.618      -6.150       3.660\n",
       "ID_17.0                            -0.8486      1.605     -0.529      0.597      -4.000       2.302\n",
       "ID_18.0                             0.0445      0.418      0.106      0.915      -0.777       0.866\n",
       "ID_19.0                            -0.3932      1.624     -0.242      0.809      -3.582       2.795\n",
       "ID_20.0                            -0.3528      0.640     -0.552      0.581      -1.609       0.903\n",
       "ID_21.0                            -0.9313      1.771     -0.526      0.599      -4.408       2.546\n",
       "ID_22.0                            -0.4578      0.868     -0.527      0.598      -2.163       1.247\n",
       "ID_23.0                            -0.6615      1.153     -0.574      0.566      -2.926       1.603\n",
       "ID_24.0                            -1.6557      3.007     -0.551      0.582      -7.560       4.249\n",
       "ID_25.0                            -0.5371      0.529     -1.015      0.311      -1.576       0.502\n",
       "ID_26.0                             1.0674      2.342      0.456      0.649      -3.532       5.667\n",
       "ID_27.0                            -0.6517      2.090     -0.312      0.755      -4.755       3.452\n",
       "ID_28.0                             0.7626      0.237      3.216      0.001       0.297       1.228\n",
       "ID_29.0                             0.7357      0.245      3.004      0.003       0.255       1.217\n",
       "ID_30.0                             1.0987      1.507      0.729      0.466      -1.861       4.058\n",
       "ID_31.0                            -3.0463      2.797     -1.089      0.277      -8.539       2.447\n",
       "ID_32.0                            -2.6600      2.704     -0.984      0.326      -7.970       2.650\n",
       "ID_33.0                            -1.5920      1.261     -1.262      0.207      -4.069       0.885\n",
       "ID_34.0                            -1.9224      3.125     -0.615      0.539      -8.060       4.215\n",
       "ID_35.0                            -2.2659      1.934     -1.171      0.242      -6.065       1.533\n",
       "ID_36.0                            -1.8727      2.142     -0.874      0.382      -6.080       2.335\n",
       "Reason for absence_1.0              0.0471      0.049      0.970      0.332      -0.048       0.142\n",
       "Reason for absence_2.0              0.1399      0.107      1.313      0.190      -0.069       0.349\n",
       "Reason for absence_3.0             -0.0055      0.105     -0.053      0.958      -0.212       0.201\n",
       "Reason for absence_4.0              0.0188      0.085      0.221      0.826      -0.148       0.186\n",
       "Reason for absence_5.0              0.0027      0.070      0.039      0.969      -0.134       0.140\n",
       "Reason for absence_6.0             -0.0113      0.057     -0.197      0.844      -0.124       0.101\n",
       "Reason for absence_7.0              0.0175      0.049      0.360      0.719      -0.078       0.113\n",
       "Reason for absence_8.0              0.0036      0.058      0.062      0.951      -0.111       0.118\n",
       "Reason for absence_9.0              0.3048      0.065      4.695      0.000       0.177       0.432\n",
       "Reason for absence_10.0             0.0384      0.046      0.829      0.408      -0.053       0.130\n",
       "Reason for absence_11.0             0.0168      0.046      0.362      0.718      -0.074       0.108\n",
       "Reason for absence_12.0             0.0871      0.054      1.608      0.108      -0.019       0.193\n",
       "Reason for absence_13.0             0.0737      0.044      1.686      0.092      -0.012       0.160\n",
       "Reason for absence_14.0             0.0027      0.048      0.057      0.955      -0.092       0.097\n",
       "Reason for absence_15.0            -0.0337      0.083     -0.408      0.684      -0.196       0.128\n",
       "Reason for absence_16.0            -0.0399      0.072     -0.551      0.582      -0.182       0.102\n",
       "Reason for absence_17.0             0.0114      0.107      0.106      0.915      -0.199       0.222\n",
       "Reason for absence_18.0             0.0170      0.047      0.361      0.718      -0.075       0.109\n",
       "Reason for absence_19.0             0.1067      0.045      2.387      0.017       0.019       0.195\n",
       "Reason for absence_20.0             0.0033      0.110      0.030      0.976      -0.212       0.219\n",
       "Reason for absence_21.0             0.0040      0.058      0.068      0.946      -0.110       0.118\n",
       "Reason for absence_22.0             0.0113      0.046      0.247      0.805      -0.078       0.101\n",
       "Reason for absence_23.0            -0.0275      0.043     -0.644      0.520      -0.111       0.056\n",
       "Reason for absence_24.0            -0.0061      0.070     -0.086      0.931      -0.144       0.132\n",
       "Reason for absence_25.0            -0.0009      0.046     -0.020      0.984      -0.091       0.089\n",
       "Reason for absence_26.0             0.0051      0.045      0.113      0.910      -0.084       0.094\n",
       "Reason for absence_27.0            -0.0175      0.044     -0.397      0.691      -0.104       0.069\n",
       "Reason for absence_28.0            -0.0287      0.043     -0.667      0.505      -0.113       0.056\n",
       "Month of absence_1.0                0.0286      0.101      0.284      0.777      -0.169       0.226\n",
       "Month of absence_2.0                0.0302      0.100      0.302      0.763      -0.166       0.226\n",
       "Month of absence_3.0                0.0450      0.100      0.451      0.652      -0.151       0.241\n",
       "Month of absence_4.0                0.0531      0.101      0.524      0.600      -0.146       0.252\n",
       "Month of absence_5.0                0.0184      0.102      0.180      0.857      -0.181       0.218\n",
       "Month of absence_6.0                0.0692      0.101      0.682      0.495      -0.130       0.268\n",
       "Month of absence_7.0                0.0860      0.104      0.829      0.407      -0.118       0.290\n",
       "Month of absence_8.0                0.0733      0.104      0.705      0.481      -0.131       0.277\n",
       "Month of absence_9.0                0.0814      0.101      0.804      0.422      -0.117       0.280\n",
       "Month of absence_10.0               0.0694      0.102      0.680      0.497      -0.131       0.270\n",
       "Month of absence_11.0               0.0749      0.102      0.737      0.462      -0.125       0.275\n",
       "Month of absence_12.0               0.0765      0.101      0.760      0.448      -0.121       0.274\n",
       "Day of the week_3.0                 0.0034      0.012      0.287      0.774      -0.020       0.027\n",
       "Day of the week_4.0             -6.842e-05      0.012     -0.006      0.995      -0.023       0.023\n",
       "Day of the week_5.0                -0.0297      0.012     -2.399      0.017      -0.054      -0.005\n",
       "Day of the week_6.0                -0.0112      0.012     -0.907      0.365      -0.035       0.013\n",
       "Seasons_2.0                         0.0425      0.030      1.417      0.157      -0.016       0.101\n",
       "Seasons_3.0                         0.0415      0.027      1.553      0.121      -0.011       0.094\n",
       "Seasons_4.0                         0.0224      0.026      0.860      0.390      -0.029       0.073\n",
       "Disciplinary failure_1.0           -0.0348      0.043     -0.799      0.425      -0.120       0.051\n",
       "Education_2.0                      -0.2953      0.679     -0.435      0.664      -1.629       1.039\n",
       "Education_3.0                      -0.6310      1.920     -0.329      0.743      -4.401       3.139\n",
       "Education_4.0                      -0.5072      0.809     -0.627      0.531      -2.095       1.081\n",
       "Social drinker_1.0                 -1.2096      2.199     -0.550      0.582      -5.528       3.109\n",
       "Social smoker_1.0                  -0.6594      1.041     -0.633      0.527      -2.705       1.386\n",
       "Pet_1.0                            -0.6912      1.031     -0.670      0.503      -2.716       1.334\n",
       "Pet_2.0                            -0.7268      1.426     -0.510      0.610      -3.527       2.074\n",
       "Pet_4.0                             0.6332      0.977      0.648      0.517      -1.285       2.551\n",
       "Pet_5.0                            -0.8018      0.617     -1.300      0.194      -2.013       0.409\n",
       "Pet_8.0                             0.5162      1.345      0.384      0.701      -2.125       3.158\n",
       "Son_1.0                            -0.9364      1.565     -0.598      0.550      -4.010       2.137\n",
       "Son_2.0                            -1.0866      2.241     -0.485      0.628      -5.487       3.314\n",
       "Son_3.0                            -0.0535      0.821     -0.065      0.948      -1.666       1.559\n",
       "Son_4.0                            -0.3528      0.640     -0.552      0.581      -1.609       0.903\n",
       "==============================================================================\n",
       "Omnibus:                      647.524   Durbin-Watson:                   1.986\n",
       "Prob(Omnibus):                  0.000   Jarque-Bera (JB):            26519.415\n",
       "Skew:                           3.906   Prob(JB):                         0.00\n",
       "Kurtosis:                      31.730   Cond. No.                     1.22e+16\n",
       "==============================================================================\n",
       "\n",
       "Warnings:\n",
       "[1] Standard Errors assume that the covariance matrix of the errors is correctly specified.\n",
       "[2] The smallest eigenvalue is 1.47e-29. This might indicate that there are\n",
       "strong multicollinearity problems or that the design matrix is singular.\n",
       "\"\"\""
      ]
     },
     "execution_count": 62,
     "metadata": {},
     "output_type": "execute_result"
    }
   ],
   "source": [
    "model.summary()"
   ]
  },
  {
   "cell_type": "markdown",
   "metadata": {},
   "source": [
    "### model will be feed only continous variables"
   ]
  },
  {
   "cell_type": "code",
   "execution_count": 63,
   "metadata": {},
   "outputs": [],
   "source": [
    "Xl = dataEmpAbs[continuous_variable].drop('Absenteeism time in hours',axis=1)\n",
    "yl = dataEmpAbs['Absenteeism time in hours']"
   ]
  },
  {
   "cell_type": "code",
   "execution_count": 64,
   "metadata": {},
   "outputs": [],
   "source": [
    "from sklearn.model_selection import train_test_split"
   ]
  },
  {
   "cell_type": "code",
   "execution_count": 65,
   "metadata": {},
   "outputs": [],
   "source": [
    "Xl_train, Xl_test, yl_train, yl_test = train_test_split(Xl, yl, test_size=0.3, random_state=101)"
   ]
  },
  {
   "cell_type": "code",
   "execution_count": 66,
   "metadata": {},
   "outputs": [],
   "source": [
    "# linear regression for Continous variables\n",
    "lRc = LinearRegression()\n"
   ]
  },
  {
   "cell_type": "code",
   "execution_count": 67,
   "metadata": {},
   "outputs": [
    {
     "data": {
      "text/plain": [
       "LinearRegression(copy_X=True, fit_intercept=True, n_jobs=None, normalize=False)"
      ]
     },
     "execution_count": 67,
     "metadata": {},
     "output_type": "execute_result"
    }
   ],
   "source": [
    "lRc.fit(Xl_train,yl_train)"
   ]
  },
  {
   "cell_type": "code",
   "execution_count": 68,
   "metadata": {},
   "outputs": [
    {
     "data": {
      "text/plain": [
       "LinearRegression(copy_X=True, fit_intercept=True, n_jobs=None, normalize=False)"
      ]
     },
     "execution_count": 68,
     "metadata": {},
     "output_type": "execute_result"
    }
   ],
   "source": [
    "lRc"
   ]
  },
  {
   "cell_type": "code",
   "execution_count": 69,
   "metadata": {},
   "outputs": [
    {
     "name": "stdout",
     "output_type": "stream",
     "text": [
      "0.010977961128934732\n"
     ]
    }
   ],
   "source": [
    "print(lRc.intercept_)"
   ]
  },
  {
   "cell_type": "code",
   "execution_count": 70,
   "metadata": {},
   "outputs": [
    {
     "name": "stdout",
     "output_type": "stream",
     "text": [
      "[-0.03064037  0.04120623  0.00805034  0.00546324  0.03424261  0.02199734\n",
      "  0.02904932 -0.01566774]\n"
     ]
    }
   ],
   "source": [
    "print(lRc.coef_)"
   ]
  },
  {
   "cell_type": "code",
   "execution_count": 71,
   "metadata": {},
   "outputs": [
    {
     "data": {
      "text/html": [
       "<div>\n",
       "<style scoped>\n",
       "    .dataframe tbody tr th:only-of-type {\n",
       "        vertical-align: middle;\n",
       "    }\n",
       "\n",
       "    .dataframe tbody tr th {\n",
       "        vertical-align: top;\n",
       "    }\n",
       "\n",
       "    .dataframe thead th {\n",
       "        text-align: right;\n",
       "    }\n",
       "</style>\n",
       "<table border=\"1\" class=\"dataframe\">\n",
       "  <thead>\n",
       "    <tr style=\"text-align: right;\">\n",
       "      <th></th>\n",
       "      <th>Coeff</th>\n",
       "    </tr>\n",
       "  </thead>\n",
       "  <tbody>\n",
       "    <tr>\n",
       "      <th>Distance from Residence to Work</th>\n",
       "      <td>-0.030640</td>\n",
       "    </tr>\n",
       "    <tr>\n",
       "      <th>Service time</th>\n",
       "      <td>0.041206</td>\n",
       "    </tr>\n",
       "    <tr>\n",
       "      <th>Age</th>\n",
       "      <td>0.008050</td>\n",
       "    </tr>\n",
       "    <tr>\n",
       "      <th>Work load Average/day</th>\n",
       "      <td>0.005463</td>\n",
       "    </tr>\n",
       "    <tr>\n",
       "      <th>Transportation expense</th>\n",
       "      <td>0.034243</td>\n",
       "    </tr>\n",
       "    <tr>\n",
       "      <th>Hit target</th>\n",
       "      <td>0.021997</td>\n",
       "    </tr>\n",
       "    <tr>\n",
       "      <th>Height</th>\n",
       "      <td>0.029049</td>\n",
       "    </tr>\n",
       "    <tr>\n",
       "      <th>Body mass index</th>\n",
       "      <td>-0.015668</td>\n",
       "    </tr>\n",
       "  </tbody>\n",
       "</table>\n",
       "</div>"
      ],
      "text/plain": [
       "                                    Coeff\n",
       "Distance from Residence to Work -0.030640\n",
       "Service time                     0.041206\n",
       "Age                              0.008050\n",
       "Work load Average/day            0.005463\n",
       "Transportation expense           0.034243\n",
       "Hit target                       0.021997\n",
       "Height                           0.029049\n",
       "Body mass index                 -0.015668"
      ]
     },
     "execution_count": 71,
     "metadata": {},
     "output_type": "execute_result"
    }
   ],
   "source": [
    "pd.DataFrame(lRc.coef_,Xl.columns,columns=['Coeff'])"
   ]
  },
  {
   "cell_type": "code",
   "execution_count": 72,
   "metadata": {},
   "outputs": [],
   "source": [
    "predLrc = lRc.predict(Xl_test)"
   ]
  },
  {
   "cell_type": "code",
   "execution_count": 73,
   "metadata": {},
   "outputs": [
    {
     "data": {
      "text/plain": [
       "<matplotlib.axes._subplots.AxesSubplot at 0x2361f63be10>"
      ]
     },
     "execution_count": 73,
     "metadata": {},
     "output_type": "execute_result"
    },
    {
     "data": {
      "image/png": "[encoded data removed]",
      "text/plain": [
       "<Figure size 432x288 with 1 Axes>"
      ]
     },
     "metadata": {
      "needs_background": "light"
     },
     "output_type": "display_data"
    }
   ],
   "source": [
    "sns.scatterplot(yl_test,predLrc)"
   ]
  },
  {
   "cell_type": "code",
   "execution_count": 74,
   "metadata": {},
   "outputs": [
    {
     "data": {
      "text/plain": [
       "<matplotlib.axes._subplots.AxesSubplot at 0x2361f5d54e0>"
      ]
     },
     "execution_count": 74,
     "metadata": {},
     "output_type": "execute_result"
    },
    {
     "data": {
      "image/png": "[encoded data removed]",
      "text/plain": [
       "<Figure size 432x288 with 1 Axes>"
      ]
     },
     "metadata": {
      "needs_background": "light"
     },
     "output_type": "display_data"
    }
   ],
   "source": [
    "sns.distplot(yl_test-predLrc,bins=50) # residuals"
   ]
  },
  {
   "cell_type": "code",
   "execution_count": 75,
   "metadata": {},
   "outputs": [
    {
     "name": "stdout",
     "output_type": "stream",
     "text": [
      "MAE 0.05260653256534115\n",
      "MSE 0.015136411475929711\n",
      "RMSE 0.12303012426202661\n"
     ]
    }
   ],
   "source": [
    "print('MAE',metrics.mean_absolute_error(y_test,predLrc))\n",
    "print('MSE',metrics.mean_squared_error(y_test,predLrc))\n",
    "print('RMSE',np.sqrt(metrics.mean_squared_error(y_test,predLrc)))"
   ]
  },
  {
   "cell_type": "markdown",
   "metadata": {},
   "source": [
    "# model with only Continous variables is better"
   ]
  },
  {
   "cell_type": "markdown",
   "metadata": {},
   "source": [
    "### now using statsmodel.api"
   ]
  },
  {
   "cell_type": "code",
   "execution_count": 76,
   "metadata": {},
   "outputs": [],
   "source": [
    "modelc=sm.OLS(dataEmpAbs.loc[:,continuous_variable[-1]],dataEmpAbs[continuous_variable].drop('Absenteeism time in hours',axis=1)).fit()"
   ]
  },
  {
   "cell_type": "code",
   "execution_count": 77,
   "metadata": {},
   "outputs": [
    {
     "data": {
      "text/html": [
       "<table class=\"simpletable\">\n",
       "<caption>OLS Regression Results</caption>\n",
       "<tr>\n",
       "  <th>Dep. Variable:</th>    <td>Absenteeism time in hours</td> <th>  R-squared:         </th> <td>   0.239</td>\n",
       "</tr>\n",
       "<tr>\n",
       "  <th>Model:</th>                       <td>OLS</td>            <th>  Adj. R-squared:    </th> <td>   0.231</td>\n",
       "</tr>\n",
       "<tr>\n",
       "  <th>Method:</th>                 <td>Least Squares</td>       <th>  F-statistic:       </th> <td>   27.90</td>\n",
       "</tr>\n",
       "<tr>\n",
       "  <th>Date:</th>                 <td>Wed, 02 Oct 2019</td>      <th>  Prob (F-statistic):</th> <td>7.56e-38</td>\n",
       "</tr>\n",
       "<tr>\n",
       "  <th>Time:</th>                     <td>12:28:27</td>          <th>  Log-Likelihood:    </th> <td>  564.40</td>\n",
       "</tr>\n",
       "<tr>\n",
       "  <th>No. Observations:</th>          <td>   718</td>           <th>  AIC:               </th> <td>  -1113.</td>\n",
       "</tr>\n",
       "<tr>\n",
       "  <th>Df Residuals:</th>              <td>   710</td>           <th>  BIC:               </th> <td>  -1076.</td>\n",
       "</tr>\n",
       "<tr>\n",
       "  <th>Df Model:</th>                  <td>     8</td>           <th>                     </th>     <td> </td>   \n",
       "</tr>\n",
       "<tr>\n",
       "  <th>Covariance Type:</th>          <td>nonrobust</td>         <th>                     </th>     <td> </td>   \n",
       "</tr>\n",
       "</table>\n",
       "<table class=\"simpletable\">\n",
       "<tr>\n",
       "                 <td></td>                    <th>coef</th>     <th>std err</th>      <th>t</th>      <th>P>|t|</th>  <th>[0.025</th>    <th>0.975]</th>  \n",
       "</tr>\n",
       "<tr>\n",
       "  <th>Distance from Residence to Work</th> <td>   -0.0500</td> <td>    0.015</td> <td>   -3.372</td> <td> 0.001</td> <td>   -0.079</td> <td>   -0.021</td>\n",
       "</tr>\n",
       "<tr>\n",
       "  <th>Service time</th>                    <td>    0.0873</td> <td>    0.031</td> <td>    2.774</td> <td> 0.006</td> <td>    0.026</td> <td>    0.149</td>\n",
       "</tr>\n",
       "<tr>\n",
       "  <th>Age</th>                             <td>   -0.0073</td> <td>    0.026</td> <td>   -0.276</td> <td> 0.783</td> <td>   -0.059</td> <td>    0.044</td>\n",
       "</tr>\n",
       "<tr>\n",
       "  <th>Work load Average/day </th>          <td>    0.0012</td> <td>    0.016</td> <td>    0.072</td> <td> 0.943</td> <td>   -0.031</td> <td>    0.033</td>\n",
       "</tr>\n",
       "<tr>\n",
       "  <th>Transportation expense</th>          <td>    0.0620</td> <td>    0.017</td> <td>    3.612</td> <td> 0.000</td> <td>    0.028</td> <td>    0.096</td>\n",
       "</tr>\n",
       "<tr>\n",
       "  <th>Hit target</th>                      <td>    0.0211</td> <td>    0.016</td> <td>    1.314</td> <td> 0.189</td> <td>   -0.010</td> <td>    0.053</td>\n",
       "</tr>\n",
       "<tr>\n",
       "  <th>Height</th>                          <td>    0.0381</td> <td>    0.020</td> <td>    1.940</td> <td> 0.053</td> <td>   -0.000</td> <td>    0.077</td>\n",
       "</tr>\n",
       "<tr>\n",
       "  <th>Body mass index</th>                 <td>   -0.0350</td> <td>    0.023</td> <td>   -1.547</td> <td> 0.122</td> <td>   -0.080</td> <td>    0.009</td>\n",
       "</tr>\n",
       "</table>\n",
       "<table class=\"simpletable\">\n",
       "<tr>\n",
       "  <th>Omnibus:</th>       <td>798.509</td> <th>  Durbin-Watson:     </th> <td>   2.025</td> \n",
       "</tr>\n",
       "<tr>\n",
       "  <th>Prob(Omnibus):</th> <td> 0.000</td>  <th>  Jarque-Bera (JB):  </th> <td>42186.449</td>\n",
       "</tr>\n",
       "<tr>\n",
       "  <th>Skew:</th>          <td> 5.459</td>  <th>  Prob(JB):          </th> <td>    0.00</td> \n",
       "</tr>\n",
       "<tr>\n",
       "  <th>Kurtosis:</th>      <td>38.929</td>  <th>  Cond. No.          </th> <td>    12.5</td> \n",
       "</tr>\n",
       "</table><br/><br/>Warnings:<br/>[1] Standard Errors assume that the covariance matrix of the errors is correctly specified."
      ],
      "text/plain": [
       "<class 'statsmodels.iolib.summary.Summary'>\n",
       "\"\"\"\n",
       "                                OLS Regression Results                               \n",
       "=====================================================================================\n",
       "Dep. Variable:     Absenteeism time in hours   R-squared:                       0.239\n",
       "Model:                                   OLS   Adj. R-squared:                  0.231\n",
       "Method:                        Least Squares   F-statistic:                     27.90\n",
       "Date:                       Wed, 02 Oct 2019   Prob (F-statistic):           7.56e-38\n",
       "Time:                               12:28:27   Log-Likelihood:                 564.40\n",
       "No. Observations:                        718   AIC:                            -1113.\n",
       "Df Residuals:                            710   BIC:                            -1076.\n",
       "Df Model:                                  8                                         \n",
       "Covariance Type:                   nonrobust                                         \n",
       "===================================================================================================\n",
       "                                      coef    std err          t      P>|t|      [0.025      0.975]\n",
       "---------------------------------------------------------------------------------------------------\n",
       "Distance from Residence to Work    -0.0500      0.015     -3.372      0.001      -0.079      -0.021\n",
       "Service time                        0.0873      0.031      2.774      0.006       0.026       0.149\n",
       "Age                                -0.0073      0.026     -0.276      0.783      -0.059       0.044\n",
       "Work load Average/day               0.0012      0.016      0.072      0.943      -0.031       0.033\n",
       "Transportation expense              0.0620      0.017      3.612      0.000       0.028       0.096\n",
       "Hit target                          0.0211      0.016      1.314      0.189      -0.010       0.053\n",
       "Height                              0.0381      0.020      1.940      0.053      -0.000       0.077\n",
       "Body mass index                    -0.0350      0.023     -1.547      0.122      -0.080       0.009\n",
       "==============================================================================\n",
       "Omnibus:                      798.509   Durbin-Watson:                   2.025\n",
       "Prob(Omnibus):                  0.000   Jarque-Bera (JB):            42186.449\n",
       "Skew:                           5.459   Prob(JB):                         0.00\n",
       "Kurtosis:                      38.929   Cond. No.                         12.5\n",
       "==============================================================================\n",
       "\n",
       "Warnings:\n",
       "[1] Standard Errors assume that the covariance matrix of the errors is correctly specified.\n",
       "\"\"\""
      ]
     },
     "execution_count": 77,
     "metadata": {},
     "output_type": "execute_result"
    }
   ],
   "source": [
    "modelc.summary()"
   ]
  },
  {
   "cell_type": "markdown",
   "metadata": {},
   "source": [
    "### loss calculation"
   ]
  },
  {
   "cell_type": "code",
   "execution_count": 78,
   "metadata": {},
   "outputs": [],
   "source": [
    "lossDF = dataEmpAbsAftImpt[['Month of absence','Absenteeism time in hours','Work load Average/day ','Service time']]\n",
    "#dataEmpAbsOrgCpy.head()"
   ]
  },
  {
   "cell_type": "code",
   "execution_count": 79,
   "metadata": {},
   "outputs": [
    {
     "name": "stderr",
     "output_type": "stream",
     "text": [
      "C:\\Users\\administrator\\AppData\\Local\\Continuum\\anaconda3\\lib\\site-packages\\ipykernel_launcher.py:1: SettingWithCopyWarning: \n",
      "A value is trying to be set on a copy of a slice from a DataFrame.\n",
      "Try using .loc[row_indexer,col_indexer] = value instead\n",
      "\n",
      "See the caveats in the documentation: http://pandas.pydata.org/pandas-docs/stable/indexing.html#indexing-view-versus-copy\n",
      "  \"\"\"Entry point for launching an IPython kernel.\n"
     ]
    }
   ],
   "source": [
    "lossDF['Loss'] = lossDF['Work load Average/day ']*lossDF['Absenteeism time in hours']/lossDF['Service time']"
   ]
  },
  {
   "cell_type": "code",
   "execution_count": 80,
   "metadata": {},
   "outputs": [
    {
     "data": {
      "text/html": [
       "<div>\n",
       "<style scoped>\n",
       "    .dataframe tbody tr th:only-of-type {\n",
       "        vertical-align: middle;\n",
       "    }\n",
       "\n",
       "    .dataframe tbody tr th {\n",
       "        vertical-align: top;\n",
       "    }\n",
       "\n",
       "    .dataframe thead th {\n",
       "        text-align: right;\n",
       "    }\n",
       "</style>\n",
       "<table border=\"1\" class=\"dataframe\">\n",
       "  <thead>\n",
       "    <tr style=\"text-align: right;\">\n",
       "      <th></th>\n",
       "      <th>Month of absence</th>\n",
       "      <th>Absenteeism time in hours</th>\n",
       "      <th>Work load Average/day</th>\n",
       "      <th>Service time</th>\n",
       "      <th>Loss</th>\n",
       "    </tr>\n",
       "  </thead>\n",
       "  <tbody>\n",
       "    <tr>\n",
       "      <th>0</th>\n",
       "      <td>7</td>\n",
       "      <td>4</td>\n",
       "      <td>239554</td>\n",
       "      <td>13</td>\n",
       "      <td>73708.923077</td>\n",
       "    </tr>\n",
       "    <tr>\n",
       "      <th>1</th>\n",
       "      <td>7</td>\n",
       "      <td>0</td>\n",
       "      <td>239554</td>\n",
       "      <td>18</td>\n",
       "      <td>0.000000</td>\n",
       "    </tr>\n",
       "    <tr>\n",
       "      <th>2</th>\n",
       "      <td>7</td>\n",
       "      <td>2</td>\n",
       "      <td>239554</td>\n",
       "      <td>18</td>\n",
       "      <td>26617.111111</td>\n",
       "    </tr>\n",
       "    <tr>\n",
       "      <th>3</th>\n",
       "      <td>7</td>\n",
       "      <td>4</td>\n",
       "      <td>239554</td>\n",
       "      <td>14</td>\n",
       "      <td>68444.000000</td>\n",
       "    </tr>\n",
       "    <tr>\n",
       "      <th>4</th>\n",
       "      <td>7</td>\n",
       "      <td>2</td>\n",
       "      <td>239554</td>\n",
       "      <td>13</td>\n",
       "      <td>36854.461538</td>\n",
       "    </tr>\n",
       "    <tr>\n",
       "      <th>5</th>\n",
       "      <td>7</td>\n",
       "      <td>8</td>\n",
       "      <td>239554</td>\n",
       "      <td>3</td>\n",
       "      <td>638810.666667</td>\n",
       "    </tr>\n",
       "    <tr>\n",
       "      <th>6</th>\n",
       "      <td>7</td>\n",
       "      <td>4</td>\n",
       "      <td>239554</td>\n",
       "      <td>11</td>\n",
       "      <td>87110.545455</td>\n",
       "    </tr>\n",
       "    <tr>\n",
       "      <th>7</th>\n",
       "      <td>7</td>\n",
       "      <td>40</td>\n",
       "      <td>239554</td>\n",
       "      <td>14</td>\n",
       "      <td>684440.000000</td>\n",
       "    </tr>\n",
       "    <tr>\n",
       "      <th>8</th>\n",
       "      <td>7</td>\n",
       "      <td>8</td>\n",
       "      <td>239554</td>\n",
       "      <td>14</td>\n",
       "      <td>136888.000000</td>\n",
       "    </tr>\n",
       "    <tr>\n",
       "      <th>9</th>\n",
       "      <td>7</td>\n",
       "      <td>8</td>\n",
       "      <td>239554</td>\n",
       "      <td>11</td>\n",
       "      <td>174221.090909</td>\n",
       "    </tr>\n",
       "  </tbody>\n",
       "</table>\n",
       "</div>"
      ],
      "text/plain": [
       "  Month of absence  Absenteeism time in hours  Work load Average/day   Service time           Loss\n",
       "0  7                4                          239554                  13            73708.923077 \n",
       "1  7                0                          239554                  18            0.000000     \n",
       "2  7                2                          239554                  18            26617.111111 \n",
       "3  7                4                          239554                  14            68444.000000 \n",
       "4  7                2                          239554                  13            36854.461538 \n",
       "5  7                8                          239554                  3             638810.666667\n",
       "6  7                4                          239554                  11            87110.545455 \n",
       "7  7                40                         239554                  14            684440.000000\n",
       "8  7                8                          239554                  14            136888.000000\n",
       "9  7                8                          239554                  11            174221.090909"
      ]
     },
     "execution_count": 80,
     "metadata": {},
     "output_type": "execute_result"
    }
   ],
   "source": [
    "lossDF.head(10)"
   ]
  },
  {
   "cell_type": "code",
   "execution_count": 81,
   "metadata": {},
   "outputs": [
    {
     "name": "stderr",
     "output_type": "stream",
     "text": [
      "C:\\Users\\administrator\\AppData\\Local\\Continuum\\anaconda3\\lib\\site-packages\\ipykernel_launcher.py:1: SettingWithCopyWarning: \n",
      "A value is trying to be set on a copy of a slice from a DataFrame.\n",
      "Try using .loc[row_indexer,col_indexer] = value instead\n",
      "\n",
      "See the caveats in the documentation: http://pandas.pydata.org/pandas-docs/stable/indexing.html#indexing-view-versus-copy\n",
      "  \"\"\"Entry point for launching an IPython kernel.\n"
     ]
    }
   ],
   "source": [
    "lossDF['Loss'] = np.round(lossDF['Loss'])"
   ]
  },
  {
   "cell_type": "code",
   "execution_count": 87,
   "metadata": {},
   "outputs": [],
   "source": [
    "lis = []\n",
    "for i in range(0,13):\n",
    "    loss = lossDF[lossDF['Month of absence']==i]['Loss'].sum()\n",
    "    lis.append(loss)"
   ]
  },
  {
   "cell_type": "code",
   "execution_count": 88,
   "metadata": {},
   "outputs": [],
   "source": [
    "lossdf = pd.DataFrame(lis,index=['zero','jan','feb','mar','apr','may','jun','jul','aug','sep','oct','nov','dec'],columns=['Loss'])"
   ]
  },
  {
   "cell_type": "code",
   "execution_count": 89,
   "metadata": {},
   "outputs": [
    {
     "data": {
      "text/html": [
       "<div>\n",
       "<style scoped>\n",
       "    .dataframe tbody tr th:only-of-type {\n",
       "        vertical-align: middle;\n",
       "    }\n",
       "\n",
       "    .dataframe tbody tr th {\n",
       "        vertical-align: top;\n",
       "    }\n",
       "\n",
       "    .dataframe thead th {\n",
       "        text-align: right;\n",
       "    }\n",
       "</style>\n",
       "<table border=\"1\" class=\"dataframe\">\n",
       "  <thead>\n",
       "    <tr style=\"text-align: right;\">\n",
       "      <th></th>\n",
       "      <th>Loss</th>\n",
       "    </tr>\n",
       "  </thead>\n",
       "  <tbody>\n",
       "    <tr>\n",
       "      <th>zero</th>\n",
       "      <td>0.0</td>\n",
       "    </tr>\n",
       "    <tr>\n",
       "      <th>jan</th>\n",
       "      <td>6351550.0</td>\n",
       "    </tr>\n",
       "    <tr>\n",
       "      <th>feb</th>\n",
       "      <td>8268542.0</td>\n",
       "    </tr>\n",
       "    <tr>\n",
       "      <th>mar</th>\n",
       "      <td>15707449.0</td>\n",
       "    </tr>\n",
       "    <tr>\n",
       "      <th>apr</th>\n",
       "      <td>10999489.0</td>\n",
       "    </tr>\n",
       "    <tr>\n",
       "      <th>may</th>\n",
       "      <td>9326392.0</td>\n",
       "    </tr>\n",
       "    <tr>\n",
       "      <th>jun</th>\n",
       "      <td>14362241.0</td>\n",
       "    </tr>\n",
       "    <tr>\n",
       "      <th>jul</th>\n",
       "      <td>19015383.0</td>\n",
       "    </tr>\n",
       "    <tr>\n",
       "      <th>aug</th>\n",
       "      <td>8791557.0</td>\n",
       "    </tr>\n",
       "    <tr>\n",
       "      <th>sep</th>\n",
       "      <td>6482816.0</td>\n",
       "    </tr>\n",
       "    <tr>\n",
       "      <th>oct</th>\n",
       "      <td>8931648.0</td>\n",
       "    </tr>\n",
       "    <tr>\n",
       "      <th>nov</th>\n",
       "      <td>12244254.0</td>\n",
       "    </tr>\n",
       "    <tr>\n",
       "      <th>dec</th>\n",
       "      <td>12299774.0</td>\n",
       "    </tr>\n",
       "  </tbody>\n",
       "</table>\n",
       "</div>"
      ],
      "text/plain": [
       "            Loss\n",
       "zero  0.0       \n",
       "jan   6351550.0 \n",
       "feb   8268542.0 \n",
       "mar   15707449.0\n",
       "apr   10999489.0\n",
       "may   9326392.0 \n",
       "jun   14362241.0\n",
       "jul   19015383.0\n",
       "aug   8791557.0 \n",
       "sep   6482816.0 \n",
       "oct   8931648.0 \n",
       "nov   12244254.0\n",
       "dec   12299774.0"
      ]
     },
     "execution_count": 89,
     "metadata": {},
     "output_type": "execute_result"
    }
   ],
   "source": [
    "lossdf"
   ]
  },
  {
   "cell_type": "code",
   "execution_count": null,
   "metadata": {},
   "outputs": [],
   "source": []
  }
 ],
 "metadata": {
  "kernelspec": {
   "display_name": "Python 3",
   "language": "python",
   "name": "python3"
  },
  "language_info": {
   "codemirror_mode": {
    "name": "ipython",
    "version": 3
   },
   "file_extension": ".py",
   "mimetype": "text/x-python",
   "name": "python",
   "nbconvert_exporter": "python",
   "pygments_lexer": "ipython3",
   "version": "3.6.8"
  }
 },
 "nbformat": 4,
 "nbformat_minor": 2
}
